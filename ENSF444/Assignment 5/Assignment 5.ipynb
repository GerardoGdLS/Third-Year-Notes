{
 "cells": [
  {
   "cell_type": "markdown",
   "id": "31a612c8",
   "metadata": {},
   "source": [
    "# Assignment 5: PCA and Neural Networks (50 marks)\n",
    "### Due: April 4 at 11:59pm \n",
    "\n",
    "### Name: "
   ]
  },
  {
   "cell_type": "code",
   "execution_count": 59,
   "id": "cb68ecd2",
   "metadata": {},
   "outputs": [],
   "source": [
    "import numpy as np\n",
    "import pandas as pd\n",
    "import matplotlib.pyplot as plt\n",
    "import seaborn as sns"
   ]
  },
  {
   "cell_type": "markdown",
   "id": "652ce757",
   "metadata": {},
   "source": [
    "## Part 1: Principle Component Analysis (PCA) (20 marks)"
   ]
  },
  {
   "cell_type": "markdown",
   "id": "9740443e",
   "metadata": {},
   "source": [
    "### Step 1. Load data (2 marks)\n",
    "\n",
    "You have been asked by an agricultural company to help them predict the type of wheat based on kernel characteristics. You have been given all the information you need in the seeds_dataset.txt file on D2L. The original dataset can be found [here](https://archive.ics.uci.edu/dataset/236/seeds)\n",
    "\n",
    "The first step is to read in the file using pandas and inspect the first few columns. Note that the data is in a text file, so the separator is different compared to a csv file."
   ]
  },
  {
   "cell_type": "code",
   "execution_count": 60,
   "id": "b23df533",
   "metadata": {},
   "outputs": [
    {
     "name": "stdout",
     "output_type": "stream",
     "text": [
      "   15.26  14.84   0.871  5.763  3.312  2.221   5.22  1\n",
      "0  14.88  14.57  0.8811  5.554  3.333  1.018  4.956  1\n",
      "1  14.29  14.09  0.9050  5.291  3.337  2.699  4.825  1\n",
      "2  13.84  13.94  0.8955  5.324  3.379  2.259  4.805  1\n",
      "3  16.14  14.99  0.9034  5.658  3.562  1.355  5.175  1\n",
      "4  14.38  14.21  0.8951  5.386  3.312  2.462  4.956  1\n"
     ]
    }
   ],
   "source": [
    "# TO DO: Import dataset and inspect the first few columns (1 mark)\n",
    "df = pd.read_csv(\"seeds_dataset.txt\", delimiter=\"\\t\")\n",
    "\n",
    "print(df.head())"
   ]
  },
  {
   "cell_type": "markdown",
   "id": "c0e47059",
   "metadata": {},
   "source": [
    "Next, you will need to separate the data into your feature matrix and target vector."
   ]
  },
  {
   "cell_type": "code",
   "execution_count": 61,
   "id": "ec3f7bb5",
   "metadata": {},
   "outputs": [
    {
     "name": "stdout",
     "output_type": "stream",
     "text": [
      "X shape: (209, 7)\n",
      "y shape: (209,)\n"
     ]
    }
   ],
   "source": [
    "# TO DO: Separate the data into feature matrix and target vector. Print the shape of X and y (1 mark)\n",
    "X = df.iloc[:, :-1]\n",
    "y = df.iloc[:, -1]\n",
    "\n",
    "print(f\"X shape: {X.shape}\")\n",
    "print(f\"y shape: {y.shape}\")"
   ]
  },
  {
   "cell_type": "markdown",
   "id": "4781acec",
   "metadata": {},
   "source": [
    "### Steps 2+3: Preprocessing and Model Selection (3 marks)\n",
    "\n",
    "The first step is to split the data into training and testing sets."
   ]
  },
  {
   "cell_type": "code",
   "execution_count": 62,
   "id": "8b3930b1",
   "metadata": {},
   "outputs": [],
   "source": [
    "# TO DO: Split the data into training and testing sets using 10% for test set (1 mark)\n",
    "from sklearn.model_selection import train_test_split\n",
    "\n",
    "X_train, X_test, y_train, y_test = train_test_split(X, y, test_size=0.1, random_state=0)"
   ]
  },
  {
   "cell_type": "markdown",
   "id": "fd4d4b84",
   "metadata": {},
   "source": [
    "Now that we have our training data, we need to decide which preprocessing methods to use. Since we do not want any information leaking into the model validation stage, we will need to create a Pipeline. For this case, our model for the Pipeline is `Logistic Regression(max_iter=1000)`."
   ]
  },
  {
   "cell_type": "code",
   "execution_count": 63,
   "id": "d208794d",
   "metadata": {},
   "outputs": [],
   "source": [
    "# TO DO: Setup required preprocessing method(s) and model (1 mark)\n",
    "from sklearn.linear_model import LogisticRegression\n",
    "from sklearn.preprocessing import StandardScaler\n",
    "\n",
    "scaler = StandardScaler() # Since we're using logistic regression\n",
    "\n",
    "model = LogisticRegression(max_iter=1000)"
   ]
  },
  {
   "cell_type": "code",
   "execution_count": 64,
   "id": "79916456",
   "metadata": {},
   "outputs": [],
   "source": [
    "# TO DO: Setup pipeline (1 mark)\n",
    "from sklearn.pipeline import Pipeline\n",
    "\n",
    "pipeline = Pipeline([\n",
    "    ('scaler', scaler), \n",
    "    ('classifier', model)])"
   ]
  },
  {
   "cell_type": "markdown",
   "id": "44a64649",
   "metadata": {},
   "source": [
    "### Step 4: Validation (2 marks)\n",
    "\n",
    "To validate the results, we need to use cross-validation. To make sure we are using the best hyperparmeters, we can use a grid search. The parameter grid has been provided below."
   ]
  },
  {
   "cell_type": "code",
   "execution_count": 65,
   "id": "f63702f0",
   "metadata": {},
   "outputs": [],
   "source": [
    "param_grid = [{'classifier': [LogisticRegression(max_iter=1000)],\n",
    "              'classifier__C': [0.01, 0.1, 1.0, 10.0, 100],\n",
    "              'classifier__fit_intercept': [True, False]}]"
   ]
  },
  {
   "cell_type": "code",
   "execution_count": 66,
   "id": "6b8c133e",
   "metadata": {},
   "outputs": [
    {
     "name": "stdout",
     "output_type": "stream",
     "text": [
      "Best Parameters: {'classifier': LogisticRegression(max_iter=1000), 'classifier__C': 10.0, 'classifier__fit_intercept': True}\n",
      "Best Training Score: 0.9574679943100997\n",
      "Best Cross Validation Results:\n",
      "   mean_test_score  mean_train_score\n",
      "6         0.957468          0.974737\n",
      "8         0.957468          0.982737\n",
      "9         0.952063          0.977413\n",
      "7         0.946799          0.958781\n",
      "5         0.925320          0.937510\n",
      "Test Score: 0.9523809523809523\n"
     ]
    }
   ],
   "source": [
    "#TO DO: Implement the grid search and print the best parameters, training score, cross-validation score and test score (2 marks)\n",
    "from sklearn.model_selection import GridSearchCV\n",
    "\n",
    "grid_search = GridSearchCV(estimator=pipeline, param_grid=param_grid, cv=5, scoring=\"accuracy\", return_train_score=True, n_jobs=-1)\n",
    "\n",
    "grid_search.fit(X_train, y_train)\n",
    "\n",
    "print(f\"Best Parameters: {grid_search.best_params_}\")\n",
    "print(f\"Best Training Score: {grid_search.best_score_}\")\n",
    "\n",
    "cv_results = pd.DataFrame(grid_search.cv_results_)[[\"mean_test_score\", \"mean_train_score\"]]\n",
    "print(\"Best Cross Validation Results:\")\n",
    "print(cv_results.sort_values(by=\"mean_test_score\", ascending=False).head())\n",
    "\n",
    "test_score = grid_search.best_estimator_.score(X_test, y_test)\n",
    "print(\"Test Score:\", test_score)"
   ]
  },
  {
   "cell_type": "markdown",
   "id": "9a298fad",
   "metadata": {},
   "source": [
    "### Step 5: Visualize using PCA (5 marks)\n",
    "\n",
    "Now you can visualize the results from Step 4 using PCA. Use the best parameters from the previous step to predict the label for the testing data. For the plot, each data point must be colored based on the class label."
   ]
  },
  {
   "cell_type": "code",
   "execution_count": 67,
   "id": "5a4a7fc7",
   "metadata": {},
   "outputs": [],
   "source": [
    "# TO DO: Predict target vector labels using best estimator (1 mark)\n",
    "best_model = grid_search.best_estimator_\n",
    "\n",
    "y_pred = best_model.predict(X_test)"
   ]
  },
  {
   "cell_type": "code",
   "execution_count": 68,
   "id": "91b40f81",
   "metadata": {},
   "outputs": [],
   "source": [
    "# TO DO: Reduce dimensions of test data for plotting (2 marks)\n",
    "from sklearn.decomposition import PCA\n",
    "\n",
    "pca = PCA(n_components=2, random_state=0) # X and Y for a graph\n",
    "X_test_pca = pca.fit_transform(X_test)"
   ]
  },
  {
   "cell_type": "code",
   "execution_count": 69,
   "id": "fec7570c",
   "metadata": {},
   "outputs": [
    {
     "data": {
      "image/png": "[encoded data removed]",
      "text/plain": [
       "<Figure size 800x600 with 1 Axes>"
      ]
     },
     "metadata": {},
     "output_type": "display_data"
    }
   ],
   "source": [
    "# TO DO: Plot test points colored by predicted label (2 marks)\n",
    "plt.figure(figsize=(8, 6))\n",
    "\n",
    "scatter_plt = plt.scatter(X_test_pca[:, 0], X_test_pca[:, 1], c=y_pred, cmap=\"viridis\", edgecolor=\"k\", alpha=0.7)\n",
    "\n",
    "plt.legend(*scatter_plt.legend_elements(), title=\"Predicted Class\")\n",
    "\n",
    "plt.xlabel(\"Principal Component 1\")\n",
    "plt.ylabel(\"Principal Component 2\")\n",
    "plt.title(\"PCA Visualization of Test Data\")\n",
    "\n",
    "plt.show()\n"
   ]
  },
  {
   "cell_type": "code",
   "execution_count": null,
   "id": "51b09763",
   "metadata": {},
   "outputs": [],
   "source": []
  },
  {
   "cell_type": "markdown",
   "id": "b865f80b",
   "metadata": {},
   "source": [
    "### Questions (4 marks)\n",
    "\n",
    "1. Did the logistic regression model work well for this dataset? Why would you make this conclusion? \n",
    "1. Did PCA work well for this model? How does this relate to the results from the model used? \n",
    "\n",
    "*ANSWER HERE*\n",
    "\n",
    "1. The model did work very well for this data set. This conclusion comes from the fact that the training score was a respectable 0.96 with a test score of 0.95. These are indicators that the model fit well. When analysing our CV results, we also see that mean test and train scores are all very high and work well with the data.\n",
    "\n",
    "2. Yes the PCA worked well. Our classes are very clearly separated and are distinguishable from one another. This relates to the model results as the high accuracy should be able to determine the difference in classes well for the data given."
   ]
  },
  {
   "cell_type": "markdown",
   "id": "6f81b972",
   "metadata": {},
   "source": [
    "### Process Description (4 marks)\n",
    "Please describe the process you used to create your code. Cite any websites or generative AI tools used. You can use the following questions as guidance:\n",
    "1. Where did you source your code?\n",
    "1. In what order did you complete the steps?\n",
    "1. If you used generative AI, what prompts did you use? Did you need to modify the code at all? Why or why not?\n",
    "1. Did you have any challenges? If yes, what were they? If not, what helped you to be successful?\n",
    "\n",
    "ANSWER HERE\n",
    "\n",
    "1. I sourced my code from previous Assignments, using similar structure for the pipeline and grid search as I used in Assignment 4 and also using documentation from scikit-learn and geeksforgeeks\n",
    "\n",
    "2. I completed the steps in order as they required building upon the previous steps. This provided a logical order to the steps to complete the task\n",
    "\n",
    "3. Generative AI helped in understanding how to use the PCA function with the prompt \"Would I need 2 parameters if I want to plot my data?\" as I was unsure how to correctly use it. The code example it provided was used to understand it and was used to structure the code I used in the assignment.\n",
    "\n",
    "4. A challenge I faced was interpreting the visualization of the results of PCA. It helped me by being able to look at the notes and understand what was happening and using a google search of \"What does PCA show when it works\" to understand that the clear, separate clusters is what we wanted"
   ]
  },
  {
   "cell_type": "markdown",
   "id": "8ed521fc",
   "metadata": {},
   "source": [
    "## Part 2: Neural Networks (28 marks)\n",
    "\n",
    "For this assignment, you will be practicing using scikit-learn and TensorFlow to implement basic neural networks (MLP). The dataset we will be using is the energy dataset from Yellowbrick (https://www.scikit-yb.org/en/latest/api/datasets/energy.html)."
   ]
  },
  {
   "cell_type": "markdown",
   "id": "c4c16745",
   "metadata": {},
   "source": [
    "### Step 1: Load data (1 mark)\n",
    "\n",
    "You will need to load the file and split it into the feature matrix and target vector. Note that this dataset has two targets, heating load and cooling load. To retrieve the single target dataset, you need `return_dataset=False`. "
   ]
  },
  {
   "cell_type": "code",
   "execution_count": 70,
   "id": "f39d53a1",
   "metadata": {},
   "outputs": [
    {
     "name": "stdout",
     "output_type": "stream",
     "text": [
      "   relative compactness  surface area  wall area  roof area  overall height  \\\n",
      "0                  0.98         514.5      294.0     110.25             7.0   \n",
      "1                  0.98         514.5      294.0     110.25             7.0   \n",
      "2                  0.98         514.5      294.0     110.25             7.0   \n",
      "3                  0.98         514.5      294.0     110.25             7.0   \n",
      "4                  0.90         563.5      318.5     122.50             7.0   \n",
      "\n",
      "   orientation  glazing area  glazing area distribution  \n",
      "0            2           0.0                          0  \n",
      "1            3           0.0                          0  \n",
      "2            4           0.0                          0  \n",
      "3            5           0.0                          0  \n",
      "4            2           0.0                          0  \n"
     ]
    }
   ],
   "source": [
    "# TO DO: Load dataset into feature matrix and target vector (1 mark)\n",
    "from yellowbrick.datasets.loaders import load_energy\n",
    "\n",
    "X, y = load_energy(return_dataset=False)\n",
    "\n",
    "print(X.head())"
   ]
  },
  {
   "cell_type": "markdown",
   "id": "2f706755",
   "metadata": {},
   "source": [
    "### Step 2: Process your dataset (6 marks)"
   ]
  },
  {
   "cell_type": "code",
   "execution_count": 71,
   "id": "f546a661",
   "metadata": {},
   "outputs": [
    {
     "name": "stdout",
     "output_type": "stream",
     "text": [
      "There are 0 values missing in X\n",
      "There are 0 values missing in y\n"
     ]
    }
   ],
   "source": [
    "# TO DO: Check if there are any missing values - if yes, decide how to fill them (1 mark)\n",
    "missing_X = X.isnull().sum().sum()\n",
    "missing_y = y.isnull().sum().sum()\n",
    "\n",
    "print(f\"There are {missing_X} values missing in X\")\n",
    "print(f\"There are {missing_y} values missing in y\")"
   ]
  },
  {
   "cell_type": "code",
   "execution_count": 72,
   "id": "55a1b3fe",
   "metadata": {},
   "outputs": [
    {
     "name": "stdout",
     "output_type": "stream",
     "text": [
      "X data types: \n",
      "relative compactness         float64\n",
      "surface area                 float64\n",
      "wall area                    float64\n",
      "roof area                    float64\n",
      "overall height               float64\n",
      "orientation                    int64\n",
      "glazing area                 float64\n",
      "glazing area distribution      int64\n",
      "dtype: object\n",
      "\n",
      "y data types: \n",
      "float64\n",
      "\n",
      "Unique values in X: \n",
      "relative compactness         12\n",
      "surface area                 12\n",
      "wall area                     7\n",
      "roof area                     4\n",
      "overall height                2\n",
      "orientation                   4\n",
      "glazing area                  4\n",
      "glazing area distribution     6\n",
      "dtype: int64\n",
      "\n",
      "Unique values in y: \n",
      "586\n"
     ]
    }
   ],
   "source": [
    "# TO DO: Check data type for each column and the number of unique values - do you need to encode any of them? (1 mark)\n",
    "print(\"X data types: \")\n",
    "print(X.dtypes)\n",
    "print(\"\")\n",
    "print(\"y data types: \")\n",
    "print(y.dtypes)\n",
    "print(\"\")\n",
    "\n",
    "unique_X = X.nunique()\n",
    "unique_y = y.nunique()\n",
    "\n",
    "print(\"Unique values in X: \")\n",
    "print(unique_X)\n",
    "print(\"\")\n",
    "print(\"Unique values in y: \")\n",
    "print(unique_y)\n",
    "\n",
    "#No encoding needed as theyre all already numerical"
   ]
  },
  {
   "cell_type": "code",
   "execution_count": 73,
   "id": "30488872",
   "metadata": {},
   "outputs": [
    {
     "name": "stdout",
     "output_type": "stream",
     "text": [
      "                              min     max\n",
      "relative compactness         0.62    0.98\n",
      "surface area               514.50  808.50\n",
      "wall area                  245.00  416.50\n",
      "roof area                  110.25  220.50\n",
      "overall height               3.50    7.00\n",
      "orientation                  2.00    5.00\n",
      "glazing area                 0.00    0.40\n",
      "glazing area distribution    0.00    5.00\n"
     ]
    }
   ],
   "source": [
    "# TO DO: Check the range of each feature - do you need to scale your data? (1 mark)\n",
    "print(X.describe().loc[['min', 'max']].T)\n",
    "\n",
    "#Yes, this should be scaled as ranges vary"
   ]
  },
  {
   "cell_type": "code",
   "execution_count": 96,
   "id": "505da56c",
   "metadata": {},
   "outputs": [],
   "source": [
    "# TO DO: Split your data into training and testing sets using 20% for test set (1 mark)\n",
    "X_train, X_test, y_train, y_test = train_test_split(X, y, random_state=0, test_size=0.2)"
   ]
  },
  {
   "cell_type": "code",
   "execution_count": 97,
   "id": "84756a2d",
   "metadata": {},
   "outputs": [],
   "source": [
    "# TO DO: Implement scaling and/or encoding here if needed (2 marks for preprocessing properly or justifying why it isn't needed)\n",
    "from sklearn.preprocessing import StandardScaler\n",
    "from sklearn.neural_network import MLPRegressor\n",
    "\n",
    "pipeline = Pipeline([\n",
    "    (\"scaler\", StandardScaler()),\n",
    "    (\"model\", MLPRegressor(random_state=0))\n",
    "])"
   ]
  },
  {
   "cell_type": "markdown",
   "id": "606f158c",
   "metadata": {},
   "source": [
    "### Step 3: Implement Neural Network (MLP) (8 marks)\n",
    "\n",
    "### Part 1: Use scikit-learn (3 marks)\n",
    "\n",
    "For each case, you will need to find the predicted target values."
   ]
  },
  {
   "cell_type": "code",
   "execution_count": 98,
   "id": "0c566105",
   "metadata": {},
   "outputs": [
    {
     "name": "stdout",
     "output_type": "stream",
     "text": [
      "Mean Squared Error: 5.1945\n",
      "R^2 Score: 0.9530\n"
     ]
    }
   ],
   "source": [
    "# TO DO: Test using default parameters and max_iter = 10000 (1 mark)\n",
    "from sklearn.metrics import mean_squared_error, r2_score\n",
    "\n",
    "mlp_default_pipeline = Pipeline([\n",
    "    (\"scaler\", StandardScaler()),\n",
    "    (\"mlp\", MLPRegressor(max_iter=10000))\n",
    "])\n",
    "\n",
    "mlp_default_pipeline.fit(X_train, y_train)\n",
    "\n",
    "y_pred = mlp_default_pipeline.predict(X_test)\n",
    "\n",
    "mse_1l = mean_squared_error(y_test, y_pred)\n",
    "r2_1l = r2_score(y_test, y_pred)\n",
    "\n",
    "print(f\"Mean Squared Error: {mse_1l:.4f}\")\n",
    "print(f\"R^2 Score: {r2_1l:.4f}\")\n"
   ]
  },
  {
   "cell_type": "code",
   "execution_count": 99,
   "id": "d5349975",
   "metadata": {},
   "outputs": [
    {
     "name": "stdout",
     "output_type": "stream",
     "text": [
      "Mean Squared Error: 0.4353\n",
      "R^2 Score: 0.9961\n"
     ]
    }
   ],
   "source": [
    "# TO DO: Test using two hidden layers with 100 nodes each (1 mark)\n",
    "mlp_two_hidden = Pipeline([\n",
    "    (\"scaler\", StandardScaler()),\n",
    "    (\"mlp\", MLPRegressor(max_iter=10000, hidden_layer_sizes=(100, 100)))\n",
    "])\n",
    "\n",
    "mlp_two_hidden.fit(X_train, y_train)\n",
    "\n",
    "y_pred = mlp_two_hidden.predict(X_test)\n",
    "\n",
    "mse_2l = mean_squared_error(y_test, y_pred)\n",
    "r2_2l = r2_score(y_test, y_pred)\n",
    "\n",
    "print(f\"Mean Squared Error: {mse_2l:.4f}\")\n",
    "print(f\"R^2 Score: {r2_2l:.4f}\")"
   ]
  },
  {
   "cell_type": "code",
   "execution_count": 100,
   "id": "ff8ed7cd",
   "metadata": {},
   "outputs": [
    {
     "name": "stdout",
     "output_type": "stream",
     "text": [
      "Mean Squared Error: 0.4635\n",
      "R^2 Score: 0.9958\n"
     ]
    }
   ],
   "source": [
    "# TO DO: Test using three hidden layers with 100 nodes each (1 mark)\n",
    "mlp_three_hidden = Pipeline([\n",
    "    (\"scaler\", StandardScaler()),\n",
    "    (\"mlp\", MLPRegressor(max_iter=10000, hidden_layer_sizes=(100, 100, 100)))\n",
    "])\n",
    "\n",
    "mlp_three_hidden.fit(X_train, y_train)\n",
    "\n",
    "y_pred = mlp_three_hidden.predict(X_test)\n",
    "\n",
    "mse_3l = mean_squared_error(y_test, y_pred)\n",
    "r2_3l = r2_score(y_test, y_pred)\n",
    "\n",
    "print(f\"Mean Squared Error: {mse_3l:.4f}\")\n",
    "print(f\"R^2 Score: {r2_3l:.4f}\")"
   ]
  },
  {
   "cell_type": "markdown",
   "id": "32f3582c",
   "metadata": {},
   "source": [
    "### Part 2: Use TensorFlow (5 marks)"
   ]
  },
  {
   "cell_type": "code",
   "execution_count": 79,
   "id": "75c17195",
   "metadata": {},
   "outputs": [],
   "source": [
    "import tensorflow as tf\n",
    "\n",
    "from tensorflow import keras\n",
    "from tensorflow.keras import layers"
   ]
  },
  {
   "cell_type": "markdown",
   "id": "aa8ef158",
   "metadata": {},
   "source": [
    "Instead of scaling the data using a scikit-learn scaler, you can scale the data using a normalization layer."
   ]
  },
  {
   "cell_type": "code",
   "execution_count": 80,
   "id": "ad79a75b",
   "metadata": {},
   "outputs": [],
   "source": [
    "# TO DO: Define normalization layer (1 mark)\n",
    "\n",
    "# Converted training sets to float32 NumPy array as it was not working with float64\n",
    "X_train_array = X_train.to_numpy().astype('float32')\n",
    "y_train_array = y_train.to_numpy().astype('float32')\n",
    "\n",
    "normalizer = tf.keras.layers.Normalization()\n",
    "normalizer.adapt(X_train_array)"
   ]
  },
  {
   "cell_type": "markdown",
   "id": "ddae1a41",
   "metadata": {},
   "source": [
    "Using `keras.Sequential`, implement an MLP with the same hidden layer setups as above:"
   ]
  },
  {
   "cell_type": "code",
   "execution_count": 81,
   "id": "76e5197d",
   "metadata": {},
   "outputs": [
    {
     "data": {
      "text/plain": [
       "<keras.src.callbacks.history.History at 0x168f002b800>"
      ]
     },
     "execution_count": 81,
     "metadata": {},
     "output_type": "execute_result"
    }
   ],
   "source": [
    "# TO DO: Implement MLP with one hidden layer with 100 nodes and the relu activation function (2 marks)\n",
    "# Compile the model with loss='mean_absolute_error' and optimizer=tf.keras.optimizers.Adam(0.001)\n",
    "# Fit the model using validation_split=0.2, verbose=0 and epochs=100\n",
    "\n",
    "from tensorflow.keras import models\n",
    "\n",
    "model_1l = models.Sequential([\n",
    "    normalizer,\n",
    "    tf.keras.layers.Dense(100, activation='relu'),\n",
    "    tf.keras.layers.Dense(1)\n",
    "])\n",
    "\n",
    "model_1l.compile(loss='mean_absolute_error', optimizer=tf.keras.optimizers.Adam(0.001))\n",
    "\n",
    "model_1l.fit(\n",
    "    X_train_array,\n",
    "    y_train_array,\n",
    "    verbose=0,\n",
    "    validation_split=0.2,\n",
    "    epochs=100\n",
    ")"
   ]
  },
  {
   "cell_type": "code",
   "execution_count": 82,
   "id": "c03dea4f",
   "metadata": {},
   "outputs": [],
   "source": [
    "# TO DO: Repeat with two hidden layers with 100 nodes each and the relu activation function (1 mark)\n",
    "\n",
    "model_2l = tf.keras.Sequential([\n",
    "    normalizer,\n",
    "    tf.keras.layers.Dense(100, activation='relu'),\n",
    "    tf.keras.layers.Dense(100, activation='relu'),\n",
    "    tf.keras.layers.Dense(1)\n",
    "])\n",
    "\n",
    "model_2l.compile(\n",
    "    loss='mean_absolute_error',\n",
    "    optimizer=tf.keras.optimizers.Adam(0.001)\n",
    ")\n",
    "\n",
    "history_2hl = model_2l.fit(\n",
    "    X_train_array,\n",
    "    y_train_array,\n",
    "    validation_split=0.2,\n",
    "    epochs=100,\n",
    "    verbose=0\n",
    ")\n",
    "\n"
   ]
  },
  {
   "cell_type": "code",
   "execution_count": 83,
   "id": "72bd5a5b",
   "metadata": {},
   "outputs": [],
   "source": [
    "# TO DO: Repeat with three hidden layers with 100 nodes each and the relu activation function (1 mark)\n",
    "\n",
    "model_3l = tf.keras.Sequential([\n",
    "    normalizer,\n",
    "    tf.keras.layers.Dense(100, activation='relu'), \n",
    "    tf.keras.layers.Dense(100, activation='relu'),\n",
    "    tf.keras.layers.Dense(100, activation='relu'),\n",
    "    tf.keras.layers.Dense(1)\n",
    "])\n",
    "\n",
    "model_3l.compile(\n",
    "    loss='mean_absolute_error',\n",
    "    optimizer=tf.keras.optimizers.Adam(0.001)\n",
    ")\n",
    "\n",
    "history_3hl = model_3l.fit(\n",
    "    X_train_array,\n",
    "    y_train_array,\n",
    "    validation_split=0.2,\n",
    "    epochs=100,\n",
    "    verbose=0\n",
    ")\n"
   ]
  },
  {
   "cell_type": "markdown",
   "id": "06cbabc6",
   "metadata": {},
   "source": [
    "### Step 4: Compare the accuracy of both methods (4 marks)\n",
    "\n",
    "For this part, calculate the mean absolute error for each model and print in a table using pandas"
   ]
  },
  {
   "cell_type": "code",
   "execution_count": 101,
   "id": "9c5c1b86",
   "metadata": {},
   "outputs": [],
   "source": [
    "# TO DO: Calculate the MAE for the three scikit-learn tests (1.5 marks)\n",
    "from sklearn.metrics import mean_absolute_error\n",
    "\n",
    "y_pred_1l_sk = mlp_default_pipeline.predict(X_test)\n",
    "y_pred_2l_sk = mlp_two_hidden.predict(X_test)\n",
    "y_pred_3l_sk = mlp_three_hidden.predict(X_test)\n",
    "\n",
    "mae_1l_sk = mean_absolute_error(y_test, y_pred_1l_sk)\n",
    "mae_2l_sk = mean_absolute_error(y_test, y_pred_2l_sk)\n",
    "mae_3l_sk = mean_absolute_error(y_test, y_pred_3l_sk)"
   ]
  },
  {
   "cell_type": "code",
   "execution_count": 102,
   "id": "6b4f3926",
   "metadata": {},
   "outputs": [
    {
     "name": "stdout",
     "output_type": "stream",
     "text": [
      "\u001b[1m5/5\u001b[0m \u001b[32m━━━━━━━━━━━━━━━━━━━━\u001b[0m\u001b[37m\u001b[0m \u001b[1m0s\u001b[0m 17ms/step \n",
      "\u001b[1m5/5\u001b[0m \u001b[32m━━━━━━━━━━━━━━━━━━━━\u001b[0m\u001b[37m\u001b[0m \u001b[1m0s\u001b[0m 16ms/step\n",
      "\u001b[1m5/5\u001b[0m \u001b[32m━━━━━━━━━━━━━━━━━━━━\u001b[0m\u001b[37m\u001b[0m \u001b[1m0s\u001b[0m 17ms/step\n"
     ]
    }
   ],
   "source": [
    "# TO DO: Calculate the MAE for the three TensorFlow tests (1.5 marks)\n",
    "y_pred_1l_tf = model_1l.predict(X_test)\n",
    "y_pred_2l_tf = model_2l.predict(X_test)\n",
    "y_pred_3l_tf = model_3l.predict(X_test)\n",
    "\n",
    "mae_1l_tf = mean_absolute_error(y_test, y_pred_1l_tf)\n",
    "mae_2l_tf = mean_absolute_error(y_test, y_pred_2l_tf)\n",
    "mae_3l_tf = mean_absolute_error(y_test, y_pred_3l_tf)"
   ]
  },
  {
   "cell_type": "code",
   "execution_count": 103,
   "id": "62bf09ef",
   "metadata": {},
   "outputs": [
    {
     "name": "stdout",
     "output_type": "stream",
     "text": [
      "Mean Absolute Error Comparison:\n",
      "              1 Hidden Layer  2 Hidden Layers  3 Hidden Layers\n",
      "Scikit-learn        1.574337          0.47405         0.521978\n",
      "TensorFlow          1.855072          1.60740         1.010854\n"
     ]
    }
   ],
   "source": [
    "# TO DO: Print the results (1 mark)\n",
    "mae_comparison = pd.DataFrame({\n",
    "    '1 Hidden Layer': [mae_1l_sk, mae_1l_tf],\n",
    "    '2 Hidden Layers': [mae_2l_sk, mae_2l_tf],\n",
    "    '3 Hidden Layers': [mae_3l_sk, mae_3l_tf]\n",
    "}, index=['Scikit-learn', 'TensorFlow'])\n",
    "\n",
    "print(\"Mean Absolute Error Comparison:\")\n",
    "print(mae_comparison)"
   ]
  },
  {
   "cell_type": "markdown",
   "id": "ebae05b6",
   "metadata": {},
   "source": [
    "### Questions (5 marks)\n",
    "\n",
    "1. Which model produced the least amount of error?\n",
    "1. Do the results change if you run your code multiple times? Why or why not?\n",
    "1.  Why are the numbers different between the scikit-learn and TensorFlow methods when we used the same number of hidden layers and hidden units per layer? List two potential reasons.\n",
    "\n",
    "*ANSWER HERE*\n",
    "\n",
    "1. The model with the least amount of error was the scikit model\n",
    "\n",
    "2. Yes the results change. This is because the randomness of the weight initialization each time the object is initialized. The feature is expected from Neural Networks such as the ones we are using in this lab.\n",
    "\n",
    "3. The different methods could have different implementations for the \"adam\" solver that is used which may create different results even with the same arguments being passed at runtime. Another possibility is the random weight distribution may work better for our dataset using the scikit learn methods rather than the tensorflow methods even if they are performing the same actions."
   ]
  },
  {
   "cell_type": "markdown",
   "id": "fcc847c4",
   "metadata": {},
   "source": [
    "### Process Description (4 marks)\n",
    "Please describe the process you used to create your code. Cite any websites or generative AI tools used. You can use the following questions as guidance:\n",
    "1. Where did you source your code?\n",
    "1. In what order did you complete the steps?\n",
    "1. If you used generative AI, what prompts did you use? Did you need to modify the code at all? Why or why not?\n",
    "1. Did you have any challenges? If yes, what were they? If not, what helped you to be successful?\n",
    "\n",
    "ANSWER HERE\n",
    "\n",
    "1. My code was sourced from the same websites as part one, using documentation from scikit and geeksforgeeks\n",
    "\n",
    "2. The steps were completed in order as it made it simple to follow, although they could have been completed in a different order, starting with the tensor flow rather than the scikit parts.\n",
    "\n",
    "3. I used generative AI to explain why my code was producing strange results as the MLPRegressor with scikit was generating a strange output for the 2-layer version with randomstate=0 and it explained that this was due to the initialization sometimes being incorrect. This made sense as the 1 and 3 layer versions were working as intended. I did not need to modify any code as it was not produced, only an explanation.\n",
    "\n",
    "4. I struggled downloading the tensorflow on my windows device. This was a struggle due to the settings of my computer and was easily resolved by following the tracecall for the error."
   ]
  },
  {
   "cell_type": "markdown",
   "id": "353717fd",
   "metadata": {},
   "source": [
    "## Part 3: Reflection (2 marks)\n",
    "Include a sentence or two about:\n",
    "- what you liked or disliked,\n",
    "- found interesting, confusing, challangeing, motivating\n",
    "while working on this assignment.\n",
    "\n",
    "\n",
    "*ADD YOUR THOUGHTS HERE*\n",
    "\n",
    "1. I enjoyed learning about how two different producers of similar code (Neural Network Methods) can generate vastly different results, even when doing the same thing at their root. This is useful to know as it can help us decide if the tools we are using are the correct ones for the dataset we are using or if its more efficient to use another tool.\n",
    "\n",
    "Something I found interesting was the way the Neural Network can still produce different results each time the code is ran as it is inherently created to do so. I've rarely worked with code that can change in such a way without changing the base code and it opened up a new perspective for the capabilities in machine learning"
   ]
  },
  {
   "cell_type": "code",
   "execution_count": null,
   "id": "1ae29168",
   "metadata": {},
   "outputs": [],
   "source": []
  }
 ],
 "metadata": {
  "kernelspec": {
   "display_name": "Python 3",
   "language": "python",
   "name": "python3"
  },
  "language_info": {
   "codemirror_mode": {
    "name": "ipython",
    "version": 3
   },
   "file_extension": ".py",
   "mimetype": "text/x-python",
   "name": "python",
   "nbconvert_exporter": "python",
   "pygments_lexer": "ipython3",
   "version": "3.12.9"
  }
 },
 "nbformat": 4,
 "nbformat_minor": 5
}
