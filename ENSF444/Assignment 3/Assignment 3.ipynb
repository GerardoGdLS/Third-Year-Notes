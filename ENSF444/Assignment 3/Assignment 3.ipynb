{
 "cells": [
  {
   "cell_type": "markdown",
   "id": "92778525",
   "metadata": {},
   "source": [
    "# Assignment 3: Non-Linear Models and Validation Metrics (50 marks total)\n",
    "### Due: March 7 at 11:59pm\n",
    "\n",
    "### Name: "
   ]
  },
  {
   "cell_type": "markdown",
   "id": "ce31b39a",
   "metadata": {},
   "source": [
    "### In this assignment, you will need to write code that uses non-linear models to perform classification and regression tasks. You will also be asked to describe the process by which you came up with the code. More details can be found below. Please cite any websites or AI tools that you used to help you with this assignment."
   ]
  },
  {
   "cell_type": "markdown",
   "id": "f7c6de86",
   "metadata": {},
   "source": [
    "## Part 1: Classification (30 marks)\n",
    "\n",
    "### *Part 1A: Decision Function* \n",
    "\n",
    "Building on the first part of the previous assignment, we would like to test how changing the decision boundary for a linear model impacts the results."
   ]
  },
  {
   "cell_type": "markdown",
   "id": "cf275ca7",
   "metadata": {},
   "source": [
    "### Step 0: Import Libraries"
   ]
  },
  {
   "cell_type": "code",
   "execution_count": 604,
   "id": "2b67a661",
   "metadata": {},
   "outputs": [],
   "source": [
    "import numpy as np\n",
    "import pandas as pd\n",
    "import matplotlib.pyplot as plt\n",
    "import seaborn as sns"
   ]
  },
  {
   "cell_type": "code",
   "execution_count": 605,
   "id": "c38f746a",
   "metadata": {},
   "outputs": [],
   "source": [
    "import warnings\n",
    "warnings.filterwarnings('ignore') #ignoring some deprication warnings"
   ]
  },
  {
   "cell_type": "markdown",
   "id": "5f9d33a8",
   "metadata": {},
   "source": [
    "### Step 1: Data Input (1 mark)\n",
    "\n",
    "Load spam data using the same method as assignment 2."
   ]
  },
  {
   "cell_type": "code",
   "execution_count": 606,
   "id": "33583c67",
   "metadata": {},
   "outputs": [
    {
     "name": "stdout",
     "output_type": "stream",
     "text": [
      "The type of X is: <class 'pandas.core.frame.DataFrame'> and has the size: 262200 in the shape: (4600, 57)\n",
      "The type of y is: <class 'pandas.core.series.Series'> and has the size: 4600 in the shape: (4600,)\n"
     ]
    }
   ],
   "source": [
    "# TO DO: Import spam dataset from yellowbrick library\n",
    "from yellowbrick.datasets import load_spam\n",
    "\n",
    "X, y = load_spam()\n",
    "\n",
    "if (X is None or y is None):\n",
    "    print(\"Error in loading the dataset\")\n",
    "else:\n",
    "    print(f\"The type of X is: {type(X)} and has the size: {X.size} in the shape: {X.shape}\") #Based on the data set should be (4600, 57)\n",
    "    print(f\"The type of y is: {type(y)} and has the size: {y.size} in the shape: {y.shape}\")\n"
   ]
  },
  {
   "cell_type": "markdown",
   "id": "c696e475",
   "metadata": {},
   "source": [
    "Next, we need to split the data into training and testing sets."
   ]
  },
  {
   "cell_type": "code",
   "execution_count": 607,
   "id": "682a58bf",
   "metadata": {},
   "outputs": [],
   "source": [
    "# TO DO: Split 10% of the data for the testing set (1 mark)\n",
    "from sklearn.model_selection import train_test_split\n",
    "\n",
    "X_train, X_test, y_train, y_test = train_test_split(X, y, test_size=0.1, random_state=0)\n"
   ]
  },
  {
   "cell_type": "markdown",
   "id": "65e7a107",
   "metadata": {},
   "source": [
    "### Step 2: Data Processing\n",
    "Based on assignment 2, follow the same data processing steps (if needed)"
   ]
  },
  {
   "cell_type": "code",
   "execution_count": 608,
   "id": "1cbd69ad",
   "metadata": {},
   "outputs": [
    {
     "name": "stdout",
     "output_type": "stream",
     "text": [
      "There are: 0 values missing in x\n",
      "There are: 0 values missing in y\n"
     ]
    },
    {
     "data": {
      "text/plain": [
       "0       1\n",
       "1       1\n",
       "2       1\n",
       "3       1\n",
       "4       1\n",
       "       ..\n",
       "4595    0\n",
       "4596    0\n",
       "4597    0\n",
       "4598    0\n",
       "4599    0\n",
       "Name: is_spam, Length: 4600, dtype: int64"
      ]
     },
     "execution_count": 608,
     "metadata": {},
     "output_type": "execute_result"
    }
   ],
   "source": [
    "# TO DO: Data processing steps (if needed)\n",
    "missing_x = X.isnull().sum().sum()\n",
    "missing_y = y.isnull().sum()\n",
    "\n",
    "print(f\"There are: {missing_x} values missing in x\")\n",
    "print(f\"There are: {missing_y} values missing in y\")\n",
    "\n",
    "#There are no missing values, but we will fill them in just in case\n",
    "\n",
    "X.fillna(method=\"ffill\")\n",
    "y.fillna(method=\"ffill\")"
   ]
  },
  {
   "cell_type": "markdown",
   "id": "70e6c46f",
   "metadata": {},
   "source": [
    "### Step 3: Implement Machine Learning Model (2 marks)\n",
    "\n",
    "1. Import `LogisticRegression` from sklearn\n",
    "1. Instantiate model `LogisticRegression(max_iter=2000)`\n",
    "1. Split training data into training and validation sets (use 20% of the data for validation)\n",
    "1. Train the machine learning model"
   ]
  },
  {
   "cell_type": "code",
   "execution_count": 609,
   "id": "6925d170",
   "metadata": {},
   "outputs": [
    {
     "data": {
      "text/html": [
       "<style>#sk-container-id-24 {\n",
       "  /* Definition of color scheme common for light and dark mode */\n",
       "  --sklearn-color-text: #000;\n",
       "  --sklearn-color-text-muted: #666;\n",
       "  --sklearn-color-line: gray;\n",
       "  /* Definition of color scheme for unfitted estimators */\n",
       "  --sklearn-color-unfitted-level-0: #fff5e6;\n",
       "  --sklearn-color-unfitted-level-1: #f6e4d2;\n",
       "  --sklearn-color-unfitted-level-2: #ffe0b3;\n",
       "  --sklearn-color-unfitted-level-3: chocolate;\n",
       "  /* Definition of color scheme for fitted estimators */\n",
       "  --sklearn-color-fitted-level-0: #f0f8ff;\n",
       "  --sklearn-color-fitted-level-1: #d4ebff;\n",
       "  --sklearn-color-fitted-level-2: #b3dbfd;\n",
       "  --sklearn-color-fitted-level-3: cornflowerblue;\n",
       "\n",
       "  /* Specific color for light theme */\n",
       "  --sklearn-color-text-on-default-background: var(--sg-text-color, var(--theme-code-foreground, var(--jp-content-font-color1, black)));\n",
       "  --sklearn-color-background: var(--sg-background-color, var(--theme-background, var(--jp-layout-color0, white)));\n",
       "  --sklearn-color-border-box: var(--sg-text-color, var(--theme-code-foreground, var(--jp-content-font-color1, black)));\n",
       "  --sklearn-color-icon: #696969;\n",
       "\n",
       "  @media (prefers-color-scheme: dark) {\n",
       "    /* Redefinition of color scheme for dark theme */\n",
       "    --sklearn-color-text-on-default-background: var(--sg-text-color, var(--theme-code-foreground, var(--jp-content-font-color1, white)));\n",
       "    --sklearn-color-background: var(--sg-background-color, var(--theme-background, var(--jp-layout-color0, #111)));\n",
       "    --sklearn-color-border-box: var(--sg-text-color, var(--theme-code-foreground, var(--jp-content-font-color1, white)));\n",
       "    --sklearn-color-icon: #878787;\n",
       "  }\n",
       "}\n",
       "\n",
       "#sk-container-id-24 {\n",
       "  color: var(--sklearn-color-text);\n",
       "}\n",
       "\n",
       "#sk-container-id-24 pre {\n",
       "  padding: 0;\n",
       "}\n",
       "\n",
       "#sk-container-id-24 input.sk-hidden--visually {\n",
       "  border: 0;\n",
       "  clip: rect(1px 1px 1px 1px);\n",
       "  clip: rect(1px, 1px, 1px, 1px);\n",
       "  height: 1px;\n",
       "  margin: -1px;\n",
       "  overflow: hidden;\n",
       "  padding: 0;\n",
       "  position: absolute;\n",
       "  width: 1px;\n",
       "}\n",
       "\n",
       "#sk-container-id-24 div.sk-dashed-wrapped {\n",
       "  border: 1px dashed var(--sklearn-color-line);\n",
       "  margin: 0 0.4em 0.5em 0.4em;\n",
       "  box-sizing: border-box;\n",
       "  padding-bottom: 0.4em;\n",
       "  background-color: var(--sklearn-color-background);\n",
       "}\n",
       "\n",
       "#sk-container-id-24 div.sk-container {\n",
       "  /* jupyter's `normalize.less` sets `[hidden] { display: none; }`\n",
       "     but bootstrap.min.css set `[hidden] { display: none !important; }`\n",
       "     so we also need the `!important` here to be able to override the\n",
       "     default hidden behavior on the sphinx rendered scikit-learn.org.\n",
       "     See: https://github.com/scikit-learn/scikit-learn/issues/21755 */\n",
       "  display: inline-block !important;\n",
       "  position: relative;\n",
       "}\n",
       "\n",
       "#sk-container-id-24 div.sk-text-repr-fallback {\n",
       "  display: none;\n",
       "}\n",
       "\n",
       "div.sk-parallel-item,\n",
       "div.sk-serial,\n",
       "div.sk-item {\n",
       "  /* draw centered vertical line to link estimators */\n",
       "  background-image: linear-gradient(var(--sklearn-color-text-on-default-background), var(--sklearn-color-text-on-default-background));\n",
       "  background-size: 2px 100%;\n",
       "  background-repeat: no-repeat;\n",
       "  background-position: center center;\n",
       "}\n",
       "\n",
       "/* Parallel-specific style estimator block */\n",
       "\n",
       "#sk-container-id-24 div.sk-parallel-item::after {\n",
       "  content: \"\";\n",
       "  width: 100%;\n",
       "  border-bottom: 2px solid var(--sklearn-color-text-on-default-background);\n",
       "  flex-grow: 1;\n",
       "}\n",
       "\n",
       "#sk-container-id-24 div.sk-parallel {\n",
       "  display: flex;\n",
       "  align-items: stretch;\n",
       "  justify-content: center;\n",
       "  background-color: var(--sklearn-color-background);\n",
       "  position: relative;\n",
       "}\n",
       "\n",
       "#sk-container-id-24 div.sk-parallel-item {\n",
       "  display: flex;\n",
       "  flex-direction: column;\n",
       "}\n",
       "\n",
       "#sk-container-id-24 div.sk-parallel-item:first-child::after {\n",
       "  align-self: flex-end;\n",
       "  width: 50%;\n",
       "}\n",
       "\n",
       "#sk-container-id-24 div.sk-parallel-item:last-child::after {\n",
       "  align-self: flex-start;\n",
       "  width: 50%;\n",
       "}\n",
       "\n",
       "#sk-container-id-24 div.sk-parallel-item:only-child::after {\n",
       "  width: 0;\n",
       "}\n",
       "\n",
       "/* Serial-specific style estimator block */\n",
       "\n",
       "#sk-container-id-24 div.sk-serial {\n",
       "  display: flex;\n",
       "  flex-direction: column;\n",
       "  align-items: center;\n",
       "  background-color: var(--sklearn-color-background);\n",
       "  padding-right: 1em;\n",
       "  padding-left: 1em;\n",
       "}\n",
       "\n",
       "\n",
       "/* Toggleable style: style used for estimator/Pipeline/ColumnTransformer box that is\n",
       "clickable and can be expanded/collapsed.\n",
       "- Pipeline and ColumnTransformer use this feature and define the default style\n",
       "- Estimators will overwrite some part of the style using the `sk-estimator` class\n",
       "*/\n",
       "\n",
       "/* Pipeline and ColumnTransformer style (default) */\n",
       "\n",
       "#sk-container-id-24 div.sk-toggleable {\n",
       "  /* Default theme specific background. It is overwritten whether we have a\n",
       "  specific estimator or a Pipeline/ColumnTransformer */\n",
       "  background-color: var(--sklearn-color-background);\n",
       "}\n",
       "\n",
       "/* Toggleable label */\n",
       "#sk-container-id-24 label.sk-toggleable__label {\n",
       "  cursor: pointer;\n",
       "  display: flex;\n",
       "  width: 100%;\n",
       "  margin-bottom: 0;\n",
       "  padding: 0.5em;\n",
       "  box-sizing: border-box;\n",
       "  text-align: center;\n",
       "  align-items: start;\n",
       "  justify-content: space-between;\n",
       "  gap: 0.5em;\n",
       "}\n",
       "\n",
       "#sk-container-id-24 label.sk-toggleable__label .caption {\n",
       "  font-size: 0.6rem;\n",
       "  font-weight: lighter;\n",
       "  color: var(--sklearn-color-text-muted);\n",
       "}\n",
       "\n",
       "#sk-container-id-24 label.sk-toggleable__label-arrow:before {\n",
       "  /* Arrow on the left of the label */\n",
       "  content: \"▸\";\n",
       "  float: left;\n",
       "  margin-right: 0.25em;\n",
       "  color: var(--sklearn-color-icon);\n",
       "}\n",
       "\n",
       "#sk-container-id-24 label.sk-toggleable__label-arrow:hover:before {\n",
       "  color: var(--sklearn-color-text);\n",
       "}\n",
       "\n",
       "/* Toggleable content - dropdown */\n",
       "\n",
       "#sk-container-id-24 div.sk-toggleable__content {\n",
       "  max-height: 0;\n",
       "  max-width: 0;\n",
       "  overflow: hidden;\n",
       "  text-align: left;\n",
       "  /* unfitted */\n",
       "  background-color: var(--sklearn-color-unfitted-level-0);\n",
       "}\n",
       "\n",
       "#sk-container-id-24 div.sk-toggleable__content.fitted {\n",
       "  /* fitted */\n",
       "  background-color: var(--sklearn-color-fitted-level-0);\n",
       "}\n",
       "\n",
       "#sk-container-id-24 div.sk-toggleable__content pre {\n",
       "  margin: 0.2em;\n",
       "  border-radius: 0.25em;\n",
       "  color: var(--sklearn-color-text);\n",
       "  /* unfitted */\n",
       "  background-color: var(--sklearn-color-unfitted-level-0);\n",
       "}\n",
       "\n",
       "#sk-container-id-24 div.sk-toggleable__content.fitted pre {\n",
       "  /* unfitted */\n",
       "  background-color: var(--sklearn-color-fitted-level-0);\n",
       "}\n",
       "\n",
       "#sk-container-id-24 input.sk-toggleable__control:checked~div.sk-toggleable__content {\n",
       "  /* Expand drop-down */\n",
       "  max-height: 200px;\n",
       "  max-width: 100%;\n",
       "  overflow: auto;\n",
       "}\n",
       "\n",
       "#sk-container-id-24 input.sk-toggleable__control:checked~label.sk-toggleable__label-arrow:before {\n",
       "  content: \"▾\";\n",
       "}\n",
       "\n",
       "/* Pipeline/ColumnTransformer-specific style */\n",
       "\n",
       "#sk-container-id-24 div.sk-label input.sk-toggleable__control:checked~label.sk-toggleable__label {\n",
       "  color: var(--sklearn-color-text);\n",
       "  background-color: var(--sklearn-color-unfitted-level-2);\n",
       "}\n",
       "\n",
       "#sk-container-id-24 div.sk-label.fitted input.sk-toggleable__control:checked~label.sk-toggleable__label {\n",
       "  background-color: var(--sklearn-color-fitted-level-2);\n",
       "}\n",
       "\n",
       "/* Estimator-specific style */\n",
       "\n",
       "/* Colorize estimator box */\n",
       "#sk-container-id-24 div.sk-estimator input.sk-toggleable__control:checked~label.sk-toggleable__label {\n",
       "  /* unfitted */\n",
       "  background-color: var(--sklearn-color-unfitted-level-2);\n",
       "}\n",
       "\n",
       "#sk-container-id-24 div.sk-estimator.fitted input.sk-toggleable__control:checked~label.sk-toggleable__label {\n",
       "  /* fitted */\n",
       "  background-color: var(--sklearn-color-fitted-level-2);\n",
       "}\n",
       "\n",
       "#sk-container-id-24 div.sk-label label.sk-toggleable__label,\n",
       "#sk-container-id-24 div.sk-label label {\n",
       "  /* The background is the default theme color */\n",
       "  color: var(--sklearn-color-text-on-default-background);\n",
       "}\n",
       "\n",
       "/* On hover, darken the color of the background */\n",
       "#sk-container-id-24 div.sk-label:hover label.sk-toggleable__label {\n",
       "  color: var(--sklearn-color-text);\n",
       "  background-color: var(--sklearn-color-unfitted-level-2);\n",
       "}\n",
       "\n",
       "/* Label box, darken color on hover, fitted */\n",
       "#sk-container-id-24 div.sk-label.fitted:hover label.sk-toggleable__label.fitted {\n",
       "  color: var(--sklearn-color-text);\n",
       "  background-color: var(--sklearn-color-fitted-level-2);\n",
       "}\n",
       "\n",
       "/* Estimator label */\n",
       "\n",
       "#sk-container-id-24 div.sk-label label {\n",
       "  font-family: monospace;\n",
       "  font-weight: bold;\n",
       "  display: inline-block;\n",
       "  line-height: 1.2em;\n",
       "}\n",
       "\n",
       "#sk-container-id-24 div.sk-label-container {\n",
       "  text-align: center;\n",
       "}\n",
       "\n",
       "/* Estimator-specific */\n",
       "#sk-container-id-24 div.sk-estimator {\n",
       "  font-family: monospace;\n",
       "  border: 1px dotted var(--sklearn-color-border-box);\n",
       "  border-radius: 0.25em;\n",
       "  box-sizing: border-box;\n",
       "  margin-bottom: 0.5em;\n",
       "  /* unfitted */\n",
       "  background-color: var(--sklearn-color-unfitted-level-0);\n",
       "}\n",
       "\n",
       "#sk-container-id-24 div.sk-estimator.fitted {\n",
       "  /* fitted */\n",
       "  background-color: var(--sklearn-color-fitted-level-0);\n",
       "}\n",
       "\n",
       "/* on hover */\n",
       "#sk-container-id-24 div.sk-estimator:hover {\n",
       "  /* unfitted */\n",
       "  background-color: var(--sklearn-color-unfitted-level-2);\n",
       "}\n",
       "\n",
       "#sk-container-id-24 div.sk-estimator.fitted:hover {\n",
       "  /* fitted */\n",
       "  background-color: var(--sklearn-color-fitted-level-2);\n",
       "}\n",
       "\n",
       "/* Specification for estimator info (e.g. \"i\" and \"?\") */\n",
       "\n",
       "/* Common style for \"i\" and \"?\" */\n",
       "\n",
       ".sk-estimator-doc-link,\n",
       "a:link.sk-estimator-doc-link,\n",
       "a:visited.sk-estimator-doc-link {\n",
       "  float: right;\n",
       "  font-size: smaller;\n",
       "  line-height: 1em;\n",
       "  font-family: monospace;\n",
       "  background-color: var(--sklearn-color-background);\n",
       "  border-radius: 1em;\n",
       "  height: 1em;\n",
       "  width: 1em;\n",
       "  text-decoration: none !important;\n",
       "  margin-left: 0.5em;\n",
       "  text-align: center;\n",
       "  /* unfitted */\n",
       "  border: var(--sklearn-color-unfitted-level-1) 1pt solid;\n",
       "  color: var(--sklearn-color-unfitted-level-1);\n",
       "}\n",
       "\n",
       ".sk-estimator-doc-link.fitted,\n",
       "a:link.sk-estimator-doc-link.fitted,\n",
       "a:visited.sk-estimator-doc-link.fitted {\n",
       "  /* fitted */\n",
       "  border: var(--sklearn-color-fitted-level-1) 1pt solid;\n",
       "  color: var(--sklearn-color-fitted-level-1);\n",
       "}\n",
       "\n",
       "/* On hover */\n",
       "div.sk-estimator:hover .sk-estimator-doc-link:hover,\n",
       ".sk-estimator-doc-link:hover,\n",
       "div.sk-label-container:hover .sk-estimator-doc-link:hover,\n",
       ".sk-estimator-doc-link:hover {\n",
       "  /* unfitted */\n",
       "  background-color: var(--sklearn-color-unfitted-level-3);\n",
       "  color: var(--sklearn-color-background);\n",
       "  text-decoration: none;\n",
       "}\n",
       "\n",
       "div.sk-estimator.fitted:hover .sk-estimator-doc-link.fitted:hover,\n",
       ".sk-estimator-doc-link.fitted:hover,\n",
       "div.sk-label-container:hover .sk-estimator-doc-link.fitted:hover,\n",
       ".sk-estimator-doc-link.fitted:hover {\n",
       "  /* fitted */\n",
       "  background-color: var(--sklearn-color-fitted-level-3);\n",
       "  color: var(--sklearn-color-background);\n",
       "  text-decoration: none;\n",
       "}\n",
       "\n",
       "/* Span, style for the box shown on hovering the info icon */\n",
       ".sk-estimator-doc-link span {\n",
       "  display: none;\n",
       "  z-index: 9999;\n",
       "  position: relative;\n",
       "  font-weight: normal;\n",
       "  right: .2ex;\n",
       "  padding: .5ex;\n",
       "  margin: .5ex;\n",
       "  width: min-content;\n",
       "  min-width: 20ex;\n",
       "  max-width: 50ex;\n",
       "  color: var(--sklearn-color-text);\n",
       "  box-shadow: 2pt 2pt 4pt #999;\n",
       "  /* unfitted */\n",
       "  background: var(--sklearn-color-unfitted-level-0);\n",
       "  border: .5pt solid var(--sklearn-color-unfitted-level-3);\n",
       "}\n",
       "\n",
       ".sk-estimator-doc-link.fitted span {\n",
       "  /* fitted */\n",
       "  background: var(--sklearn-color-fitted-level-0);\n",
       "  border: var(--sklearn-color-fitted-level-3);\n",
       "}\n",
       "\n",
       ".sk-estimator-doc-link:hover span {\n",
       "  display: block;\n",
       "}\n",
       "\n",
       "/* \"?\"-specific style due to the `<a>` HTML tag */\n",
       "\n",
       "#sk-container-id-24 a.estimator_doc_link {\n",
       "  float: right;\n",
       "  font-size: 1rem;\n",
       "  line-height: 1em;\n",
       "  font-family: monospace;\n",
       "  background-color: var(--sklearn-color-background);\n",
       "  border-radius: 1rem;\n",
       "  height: 1rem;\n",
       "  width: 1rem;\n",
       "  text-decoration: none;\n",
       "  /* unfitted */\n",
       "  color: var(--sklearn-color-unfitted-level-1);\n",
       "  border: var(--sklearn-color-unfitted-level-1) 1pt solid;\n",
       "}\n",
       "\n",
       "#sk-container-id-24 a.estimator_doc_link.fitted {\n",
       "  /* fitted */\n",
       "  border: var(--sklearn-color-fitted-level-1) 1pt solid;\n",
       "  color: var(--sklearn-color-fitted-level-1);\n",
       "}\n",
       "\n",
       "/* On hover */\n",
       "#sk-container-id-24 a.estimator_doc_link:hover {\n",
       "  /* unfitted */\n",
       "  background-color: var(--sklearn-color-unfitted-level-3);\n",
       "  color: var(--sklearn-color-background);\n",
       "  text-decoration: none;\n",
       "}\n",
       "\n",
       "#sk-container-id-24 a.estimator_doc_link.fitted:hover {\n",
       "  /* fitted */\n",
       "  background-color: var(--sklearn-color-fitted-level-3);\n",
       "}\n",
       "</style><div id=\"sk-container-id-24\" class=\"sk-top-container\"><div class=\"sk-text-repr-fallback\"><pre>LogisticRegression(fit_intercept=False, max_iter=2000)</pre><b>In a Jupyter environment, please rerun this cell to show the HTML representation or trust the notebook. <br />On GitHub, the HTML representation is unable to render, please try loading this page with nbviewer.org.</b></div><div class=\"sk-container\" hidden><div class=\"sk-item\"><div class=\"sk-estimator fitted sk-toggleable\"><input class=\"sk-toggleable__control sk-hidden--visually\" id=\"sk-estimator-id-24\" type=\"checkbox\" checked><label for=\"sk-estimator-id-24\" class=\"sk-toggleable__label fitted sk-toggleable__label-arrow\"><div><div>LogisticRegression</div></div><div><a class=\"sk-estimator-doc-link fitted\" rel=\"noreferrer\" target=\"_blank\" href=\"https://scikit-learn.org/1.6/modules/generated/sklearn.linear_model.LogisticRegression.html\">?<span>Documentation for LogisticRegression</span></a><span class=\"sk-estimator-doc-link fitted\">i<span>Fitted</span></span></div></label><div class=\"sk-toggleable__content fitted\"><pre>LogisticRegression(fit_intercept=False, max_iter=2000)</pre></div> </div></div></div></div>"
      ],
      "text/plain": [
       "LogisticRegression(fit_intercept=False, max_iter=2000)"
      ]
     },
     "execution_count": 609,
     "metadata": {},
     "output_type": "execute_result"
    }
   ],
   "source": [
    "# TO DO: Split training data into training and validation sets and fit model to training data (2 marks)\n",
    "from sklearn.linear_model import LogisticRegression\n",
    "\n",
    "model = LogisticRegression(max_iter = 2000, fit_intercept=False) #I set fit_intercept to False as later on when I changed the decision boundary, it was giving incorrect results with fit_intercept=True as the intercept was -1.66 and changing it to -1 increased it\n",
    "\n",
    "x_train, x_val, y_train, y_val = train_test_split(X, y, test_size=0.2, random_state=0)\n",
    "model.fit(x_train, y_train)\n"
   ]
  },
  {
   "cell_type": "markdown",
   "id": "7362d26f",
   "metadata": {},
   "source": [
    "### Step 4-5: Validate Model and Visualize Results (4 marks)"
   ]
  },
  {
   "cell_type": "markdown",
   "id": "25d3f305",
   "metadata": {},
   "source": [
    "Next, we can print the classification report and confusion matrix for this data set using the training and validation data."
   ]
  },
  {
   "cell_type": "code",
   "execution_count": 610,
   "id": "442a8851",
   "metadata": {},
   "outputs": [
    {
     "name": "stdout",
     "output_type": "stream",
     "text": [
      "              precision    recall  f1-score   support\n",
      "\n",
      "           0       0.96      0.90      0.93       538\n",
      "           1       0.87      0.94      0.90       382\n",
      "\n",
      "    accuracy                           0.92       920\n",
      "   macro avg       0.91      0.92      0.92       920\n",
      "weighted avg       0.92      0.92      0.92       920\n",
      "\n"
     ]
    }
   ],
   "source": [
    "# TO DO: Print classification report (1 mark)\n",
    "from sklearn.metrics import classification_report\n",
    "\n",
    "y_pred = model.predict(x_val)\n",
    "print(classification_report(y_val, y_pred))"
   ]
  },
  {
   "cell_type": "code",
   "execution_count": 611,
   "id": "4b80139c",
   "metadata": {},
   "outputs": [
    {
     "data": {
      "image/png": "[encoded data removed]",
      "text/plain": [
       "<Figure size 600x400 with 2 Axes>"
      ]
     },
     "metadata": {},
     "output_type": "display_data"
    }
   ],
   "source": [
    "# TO DO: Print confusion matrix (1 mark)\n",
    "from sklearn.metrics import confusion_matrix\n",
    "\n",
    "cm = confusion_matrix(y_val, y_pred)\n",
    "\n",
    "#Using the same style as Assignment 2\n",
    "plt.figure(figsize=(6, 4))\n",
    "sns.heatmap(cm, annot=True, cmap=\"Blues\", fmt='d', xticklabels=[\"Not Spam\", \"Spam\"], yticklabels=[\"Not Spam\", \"Spam\"])\n",
    "plt.xlabel(\"Predicted Label\")\n",
    "plt.ylabel(\"True Label\")\n",
    "plt.title(\"Confusion Matrix\")\n",
    "plt.show()"
   ]
  },
  {
   "cell_type": "markdown",
   "id": "7c8f305a",
   "metadata": {},
   "source": [
    "In this case, do we want to increase precision or recall? Based on your choice, select the appropriate direction to adjust the decision boundary. You can use either 1 or -1 as your new threshold, depending on your selected direction."
   ]
  },
  {
   "cell_type": "code",
   "execution_count": 612,
   "id": "52f9767d",
   "metadata": {},
   "outputs": [
    {
     "name": "stdout",
     "output_type": "stream",
     "text": [
      "              precision    recall  f1-score   support\n",
      "\n",
      "           0       0.89      0.97      0.93       538\n",
      "           1       0.95      0.83      0.88       382\n",
      "\n",
      "    accuracy                           0.91       920\n",
      "   macro avg       0.92      0.90      0.91       920\n",
      "weighted avg       0.91      0.91      0.91       920\n",
      "\n"
     ]
    }
   ],
   "source": [
    "# TO DO: Predict values based on new decision function threshold and print classification report (1 mark)\n",
    "# We want to catch more non-spam email, so we decrease threshold to improve its recall\n",
    "model.intercept_ -= 1\n",
    "\n",
    "y_pred = model.predict(x_val)\n",
    "\n",
    "print(classification_report(y_val, y_pred))\n"
   ]
  },
  {
   "cell_type": "code",
   "execution_count": 613,
   "id": "956a3877",
   "metadata": {},
   "outputs": [
    {
     "data": {
      "image/png": "[encoded data removed]",
      "text/plain": [
       "<Figure size 600x400 with 2 Axes>"
      ]
     },
     "metadata": {},
     "output_type": "display_data"
    }
   ],
   "source": [
    "# TO DO: Print new confusion matrix (1 mark)\n",
    "cm_new = confusion_matrix(y_val, y_pred)\n",
    "plt.figure(figsize=(6, 4))\n",
    "sns.heatmap(cm_new, annot=True, cmap=\"Blues\", fmt='d', xticklabels=[\"Not Spam\", \"Spam\"], yticklabels=[\"Not Spam\", \"Spam\"])\n",
    "plt.xlabel(\"Predicted Label\")\n",
    "plt.ylabel(\"True Label\")\n",
    "plt.title(f\"Confusion Matrix (Decision Boundary = -1)\")\n",
    "plt.show()"
   ]
  },
  {
   "cell_type": "markdown",
   "id": "93efec22",
   "metadata": {},
   "source": [
    "### Questions (6 marks)\n",
    "1. Did you decide to move the threshold to increase recall or precision? Why?\n",
    "1. How did your decision impact the number of false negatives and false positives? What is a potential unintended consequence of changing the decision boundary in this context?\n",
    "1. Why did we use the validation data instead of the test data to check the new decision threshold?\n",
    "\n",
    "#ANSWERS\n",
    "1. I decided to increase recall as we are attempting to catch more \"non-spam\" email to decrease the important emails missed. Decreasing the threshold allows us to catch more non-spam and improve the recall as it lowers the amount of false negatives which would not be caught with a decision boundary of 0\n",
    "\n",
    "2. As previously mentioned, this would decrease false negatives which would normally be considered as spam and now are considered non-spam. This simultaneoulsy increases false positives as it catches more spam email samples, but labels them as non-spam. The potential consequence is that now there is more spam email ending up in the user's mailbox, which is unwanted email that we do not want present.\n",
    "\n",
    "3. We use the validation data as it is the data that we can use to tune hyperparameters in our model, such as the threshold we were trying to optimize. As the test set is meant to be data that is not previously seen by the model, if we used it to tune our hyperparameters, it would no longer be unseen data and can change our results."
   ]
  },
  {
   "cell_type": "markdown",
   "id": "683aaa15",
   "metadata": {},
   "source": [
    "### *Part 1B: Non-linear classification*\n",
    "\n",
    "Using the spam dataset from part 1A, compare the performance of two non-linear models to the linear model used in assignment 2."
   ]
  },
  {
   "cell_type": "markdown",
   "id": "ac447c9c",
   "metadata": {},
   "source": [
    "### Step 3: Implement Machine Learning Models\n",
    "\n",
    "1. Import `LogisticRegression`, `SVC` and `RandomForestClassifier` from sklearn\n",
    "2. Instantiate models as `LogisticRegression(max_iter=2000)`, `SVC()` and `RandomForestClassifier(random_state=0, max_depth=10)`\n",
    "3. Implement the machine learning models using cross-validation (Step 4)"
   ]
  },
  {
   "cell_type": "markdown",
   "id": "0870b0d2",
   "metadata": {},
   "source": [
    "### Step 4: Validate Model \n",
    "\n",
    "Calculate the training and validation accuracy for the three different models mentioned in Step 3. For this case, you can use `cross_validate()` with `cv=5` and `scoring='accuracy'` to get the training and validation data for each of the three models and calculate the accuracy results."
   ]
  },
  {
   "cell_type": "markdown",
   "id": "bb0bbd83",
   "metadata": {},
   "source": [
    "### Step 5.1: Visualize Results (4 marks)\n",
    "\n",
    "1. Create a pandas DataFrame `results` with columns: Training accuracy and Validation accuracy\n",
    "1. Add the training accuracy and validation accuracy for each model to the `results` DataFrame\n",
    "1. Add the model names as the index for the DataFrame\n",
    "1. Print `results`"
   ]
  },
  {
   "cell_type": "code",
   "execution_count": 614,
   "id": "be4b5c0a",
   "metadata": {},
   "outputs": [
    {
     "name": "stdout",
     "output_type": "stream",
     "text": [
      "                    Training Accuracy  Validation Accuracy\n",
      "Model Type                                                \n",
      "LogisticRegression           0.927853             0.922554\n",
      "SVC                          0.715353             0.711413\n",
      "Random Forest                0.969293             0.939946\n"
     ]
    }
   ],
   "source": [
    "# TO DO: ADD YOUR CODE HERE FOR STEPS 3-5\n",
    "# HINT: USING A LOOP TO STORE THE DATA IN YOUR RESULTS DATAFRAME WILL BE MORE EFFICIENT\n",
    "from sklearn.linear_model import LogisticRegression\n",
    "from sklearn.ensemble import RandomForestClassifier\n",
    "from sklearn.svm import SVC\n",
    "from sklearn.model_selection import cross_validate\n",
    "\n",
    "log_reg = LogisticRegression(max_iter = 2000)\n",
    "svc = SVC()\n",
    "forest = RandomForestClassifier(random_state=0, max_depth=10)\n",
    "\n",
    "cross_val_reg = cross_validate(log_reg, x_train, y_train, cv=5, scoring='accuracy', return_train_score=True)\n",
    "cross_val_svc = cross_validate(svc, x_train, y_train, cv=5, scoring='accuracy', return_train_score=True)\n",
    "cross_val_for = cross_validate(forest, x_train, y_train, cv=5, scoring='accuracy', return_train_score=True)\n",
    "\n",
    "# Training accuracy\n",
    "log_reg_train_accuracy = cross_val_reg['train_score'].mean()\n",
    "svc_train_accuracy = cross_val_svc['train_score'].mean()\n",
    "forest_train_accuracy = cross_val_for['train_score'].mean()\n",
    "\n",
    "# Validation accuracy\n",
    "log_reg_val_accuracy = cross_val_reg['test_score'].mean()\n",
    "svc_val_accuracy = cross_val_svc['test_score'].mean()\n",
    "forest_val_accuracy = cross_val_for['test_score'].mean()\n",
    "\n",
    "results = pd.DataFrame({\n",
    "    \"Model Type\": ['LogisticRegression', 'SVC', 'Random Forest'],\n",
    "    \"Training Accuracy\": [log_reg_train_accuracy, svc_train_accuracy, forest_train_accuracy],\n",
    "    \"Validation Accuracy\": [log_reg_val_accuracy, svc_val_accuracy, forest_val_accuracy],\n",
    "\n",
    "})\n",
    "\n",
    "results.set_index('Model Type', inplace=True)\n",
    "\n",
    "print(results)\n"
   ]
  },
  {
   "cell_type": "markdown",
   "id": "df258782",
   "metadata": {},
   "source": [
    "SVM is sensitive to feature ranges, so scaling may be needed. Look at the feature ranges and try using a scaling method to see if the SVM results are improved."
   ]
  },
  {
   "cell_type": "code",
   "execution_count": 615,
   "id": "16524422",
   "metadata": {},
   "outputs": [
    {
     "name": "stdout",
     "output_type": "stream",
     "text": [
      "       word_freq_make  word_freq_address  word_freq_all  word_freq_3d  \\\n",
      "count     4600.000000        4600.000000    4600.000000   4600.000000   \n",
      "mean         0.104576           0.212922       0.280578      0.065439   \n",
      "std          0.305387           1.290700       0.504170      1.395303   \n",
      "min          0.000000           0.000000       0.000000      0.000000   \n",
      "25%          0.000000           0.000000       0.000000      0.000000   \n",
      "50%          0.000000           0.000000       0.000000      0.000000   \n",
      "75%          0.000000           0.000000       0.420000      0.000000   \n",
      "max          4.540000          14.280000       5.100000     42.810000   \n",
      "\n",
      "       word_freq_our  word_freq_over  word_freq_remove  word_freq_internet  \\\n",
      "count    4600.000000     4600.000000       4600.000000         4600.000000   \n",
      "mean        0.312222        0.095922          0.114233            0.105317   \n",
      "std         0.672586        0.273850          0.391480            0.401112   \n",
      "min         0.000000        0.000000          0.000000            0.000000   \n",
      "25%         0.000000        0.000000          0.000000            0.000000   \n",
      "50%         0.000000        0.000000          0.000000            0.000000   \n",
      "75%         0.382500        0.000000          0.000000            0.000000   \n",
      "max        10.000000        5.880000          7.270000           11.110000   \n",
      "\n",
      "       word_freq_order  word_freq_mail  ...  word_freq_conference  \\\n",
      "count      4600.000000     4600.000000  ...           4600.000000   \n",
      "mean          0.090087        0.239465  ...              0.031876   \n",
      "std           0.278643        0.644816  ...              0.285765   \n",
      "min           0.000000        0.000000  ...              0.000000   \n",
      "25%           0.000000        0.000000  ...              0.000000   \n",
      "50%           0.000000        0.000000  ...              0.000000   \n",
      "75%           0.000000        0.160000  ...              0.000000   \n",
      "max           5.260000       18.180000  ...             10.000000   \n",
      "\n",
      "       char_freq_;  char_freq_(  char_freq_[  char_freq_!  char_freq_$  \\\n",
      "count  4600.000000  4600.000000  4600.000000  4600.000000  4600.000000   \n",
      "mean      0.038583     0.139061     0.016980     0.268960     0.075827   \n",
      "std       0.243497     0.270377     0.109406     0.815726     0.245906   \n",
      "min       0.000000     0.000000     0.000000     0.000000     0.000000   \n",
      "25%       0.000000     0.000000     0.000000     0.000000     0.000000   \n",
      "50%       0.000000     0.065000     0.000000     0.000000     0.000000   \n",
      "75%       0.000000     0.188000     0.000000     0.314250     0.052000   \n",
      "max       4.385000     9.752000     4.081000    32.478000     6.003000   \n",
      "\n",
      "       char_freq_#  capital_run_length_average  capital_run_length_longest  \\\n",
      "count  4600.000000                 4600.000000                 4600.000000   \n",
      "mean      0.044248                    5.191827                   52.170870   \n",
      "std       0.429388                   31.732891                  194.912453   \n",
      "min       0.000000                    1.000000                    1.000000   \n",
      "25%       0.000000                    1.588000                    6.000000   \n",
      "50%       0.000000                    2.275500                   15.000000   \n",
      "75%       0.000000                    3.705250                   43.000000   \n",
      "max      19.829000                 1102.500000                 9989.000000   \n",
      "\n",
      "       capital_run_length_total  \n",
      "count               4600.000000  \n",
      "mean                 283.290435  \n",
      "std                  606.413764  \n",
      "min                    1.000000  \n",
      "25%                   35.000000  \n",
      "50%                   95.000000  \n",
      "75%                  265.250000  \n",
      "max                15841.000000  \n",
      "\n",
      "[8 rows x 57 columns]\n"
     ]
    }
   ],
   "source": [
    "# TO DO: Look at the ranges for each feature (0.5 marks)\n",
    "# Hint: there is a built-in pandas function that you can use to view the statistics of your data\n",
    "print(X.describe())"
   ]
  },
  {
   "cell_type": "code",
   "execution_count": 616,
   "id": "9ac209f4",
   "metadata": {},
   "outputs": [
    {
     "name": "stdout",
     "output_type": "stream",
     "text": [
      "SVM Training Accuracy (Scaled): 0.9455\n",
      "SVM Validation Accuracy (Scaled): 0.9280\n"
     ]
    }
   ],
   "source": [
    "# TO DO: Implement scaling for SVM and print training and validation accuracies (1.5 marks)\n",
    "from sklearn.preprocessing import StandardScaler\n",
    "\n",
    "scaler = StandardScaler()\n",
    "x_scaled = scaler.fit_transform(x_train)\n",
    "\n",
    "svc_scaled = cross_validate(svc, x_scaled, y_train, cv=5, scoring='accuracy', return_train_score=True)\n",
    "\n",
    "scaled_training_accuracy = svc_scaled['train_score'].mean()\n",
    "scaled_validation_accuracy = svc_scaled['test_score'].mean()\n",
    "\n",
    "print(f\"SVM Training Accuracy (Scaled): {scaled_training_accuracy:.4f}\")\n",
    "print(f\"SVM Validation Accuracy (Scaled): {scaled_validation_accuracy:.4f}\")\n"
   ]
  },
  {
   "cell_type": "markdown",
   "id": "8a21b4de",
   "metadata": {},
   "source": [
    "Which model gave us the best results? Use that model for the next section."
   ]
  },
  {
   "cell_type": "markdown",
   "id": "cf13a54f",
   "metadata": {},
   "source": [
    "### Step 5.2: Visualize Classification Errors (3 marks)"
   ]
  },
  {
   "cell_type": "markdown",
   "id": "6022252f",
   "metadata": {},
   "source": [
    "In this section, print the classification report and confusion matrix to investigate the recall vs. precision for the best model. Use the full training set and testing set for this analysis."
   ]
  },
  {
   "cell_type": "code",
   "execution_count": 617,
   "id": "81931e5f",
   "metadata": {},
   "outputs": [
    {
     "name": "stdout",
     "output_type": "stream",
     "text": [
      "Predicted values for the testing set are:\n",
      " [1 0 0 1 0 0 0 0 1 0 1 0 1 1 0 0 1 1 1 1 0 0 0 0 0 1 0 0 0 1 0 1 1 0 0 1 0\n",
      " 0 0 0 1 1 0 0 1 1 0 1 1 0 0 0 0 0 1 0 1 0 1 0 0 0 0 0 0 1 0 0 0 1 0 0 0 1\n",
      " 1 0 1 0 0 0 1 0 1 1 1 0 0 0 1 0 1 0 0 1 0 0 0 1 0 0 0 0 0 0 0 0 1 0 0 0 0\n",
      " 1 1 0 0 1 0 1 0 0 1 0 0 1 0 0 0 1 1 1 1 0 0 1 1 0 1 0 1 1 0 1 0 1 0 1 1 1\n",
      " 1 0 0 1 0 0 0 1 0 0 1 1 1 0 0 0 0 0 1 1 0 0 1 1 0 0 1 1 0 1 0 0 0 1 1 0 1\n",
      " 0 0 1 1 1 0 1 0 1 0 1 1 1 1 0 1 1 1 0 1 0 1 1 1 0 0 1 0 0 0 0 0 0 0 0 0 0\n",
      " 1 1 0 1 0 0 1 1 0 0 1 0 0 0 0 0 0 0 1 0 0 1 0 0 0 1 0 0 1 0 0 0 0 0 1 0 0\n",
      " 0 1 1 1 0 0 1 0 1 0 1 1 0 0 0 1 1 1 0 0 0 1 0 0 1 1 1 0 1 0 0 0 0 0 0 0 0\n",
      " 1 0 1 0 0 0 0 0 0 1 0 1 0 0 0 0 1 1 0 0 0 0 0 1 0 0 0 0 1 0 1 1 0 0 1 1 0\n",
      " 0 1 0 0 0 1 1 0 1 0 1 0 1 1 1 0 1 1 0 0 1 1 0 1 0 0 1 0 1 0 0 1 0 1 0 0 1\n",
      " 0 1 1 0 0 1 0 1 0 1 0 0 0 1 1 1 1 0 1 0 1 1 0 1 0 0 0 0 0 1 1 0 1 0 0 1 1\n",
      " 0 1 1 0 1 1 0 1 0 0 0 0 0 1 0 1 1 0 0 0 0 0 1 0 0 1 0 0 0 1 0 0 0 0 0 0 1\n",
      " 0 1 1 1 0 0 0 1 0 1 1 1 0 1 1 1 1 0 1 0 0 0 1 1 0 0 1 1 0 0 0 0 1 1 0 0 1\n",
      " 0 0 0 0 0 1 1 1 1 1 1 1 0 1 1 0 0 0 0 0 1 1 0 0 1 0 0 0 1 1 0 1 0 1 0 1 0\n",
      " 0 0 0 1 1 1 0 1 0 0 1 0 0 0 1 0 0 0 1 0 0 1 0 0 1 0 1 0 0 0 1 1 1 1 0 0 0\n",
      " 1 1 0 1 0 1 0 1 1 0 1 0 1 0 1 0 0 0 0 0 0 0 1 1 0 0 1 1 0 1 0 0 0 1 0 0 0\n",
      " 0 0 1 0 1 0 0 1 0 0 0 0 0 0 0 0 0 0 0 0 1 0 1 1 0 0 0 0 0 1 0 0 0 1 0 0 0\n",
      " 1 1 0 0 0 0 0 0 1 1 0 0 1 1 1 1 1 0 0 0 1 0 0 1 1 1 0 1 1 0 0 0 0 0 0 1 0\n",
      " 0 0 0 1 1 0 0 0 0 0 1 0 0 0 0 1 0 0 1 0 1 0 1 0 1 0 0 1 1 0 1 1 0 0 0 1 0\n",
      " 0 1 0 0 1 0 0 1 0 0 0 0 1 0 0 0 0 0 1 1 0 1 0 0 1 1 0 0 0 0 1 0 0 0 0 0 0\n",
      " 0 0 0 1 0 1 1 1 1 1 0 0 0 0 0 1 1 0 0 1 0 0 0 0 0 1 1 0 0 1 1 0 1 1 1 0 1\n",
      " 0 0 0 1 0 1 1 0 0 0 1 0 0 0 1 1 0 0 1 1 1 1 0 1 0 0 0 1 0 0 1 1 1 1 0 1 0\n",
      " 1 0 1 0 0 1 0 1 1 1 1 0 0 1 1 0 0 0 1 0 1 0 0 0 1 1 0 1 1 0 1 0 1 0 0 0 0\n",
      " 0 0 0 1 0 1 0 0 1 0 1 1 1 0 1 1 0 0 1 1 1 0 0 1 0 0 1 0 0 1 0 0 0 0 0 0 0\n",
      " 0 0 0 0 0 0 1 1 0 1 1 0 0 1 1 1 1 0 1 0 1 0 0 1 0 1 0 1 0 0 0 0]\n"
     ]
    }
   ],
   "source": [
    "# TO DO: Train model and find predicted values for testing set using best model (1 mark)\n",
    "\n",
    "X_train, X_val, y_train, y_val = train_test_split(X, y, test_size=0.2, random_state=0) # Assuming same test size\n",
    "\n",
    "model = RandomForestClassifier(random_state=0, max_depth=10)\n",
    "model.fit(X_train, y_train)\n",
    "\n",
    "y_pred = model.predict(X_val)\n",
    "\n",
    "print(f\"Predicted values for the testing set are:\\n {y_pred}\")"
   ]
  },
  {
   "cell_type": "code",
   "execution_count": 618,
   "id": "b67439bf",
   "metadata": {},
   "outputs": [
    {
     "name": "stdout",
     "output_type": "stream",
     "text": [
      "              precision    recall  f1-score   support\n",
      "\n",
      "           0       0.95      0.97      0.96       538\n",
      "           1       0.96      0.92      0.94       382\n",
      "\n",
      "    accuracy                           0.95       920\n",
      "   macro avg       0.95      0.95      0.95       920\n",
      "weighted avg       0.95      0.95      0.95       920\n",
      "\n"
     ]
    }
   ],
   "source": [
    "# TO DO: Print classification report (1 mark)\n",
    "print(classification_report(y_val, y_pred))"
   ]
  },
  {
   "cell_type": "code",
   "execution_count": 619,
   "id": "e4cb30f1",
   "metadata": {},
   "outputs": [
    {
     "data": {
      "image/png": "[encoded data removed]",
      "text/plain": [
       "<Figure size 600x400 with 2 Axes>"
      ]
     },
     "metadata": {},
     "output_type": "display_data"
    }
   ],
   "source": [
    "# TO DO: Print confusion matrix using a heatmap (1 mark)\n",
    "cm = confusion_matrix(y_val, y_pred)\n",
    "\n",
    "# Plot the confusion matrix\n",
    "plt.figure(figsize=(6, 4))\n",
    "sns.heatmap(cm, annot=True, cmap=\"Blues\", fmt='d', xticklabels=[\"Not Spam\", \"Spam\"], yticklabels=[\"Not Spam\", \"Spam\"])\n",
    "plt.xlabel(\"Predicted Label\")\n",
    "plt.ylabel(\"True Label\")\n",
    "plt.title(\"Confusion Matrix for Best Model (Random Forest)\")\n",
    "plt.show()"
   ]
  },
  {
   "cell_type": "markdown",
   "id": "bf319621",
   "metadata": {},
   "source": [
    "### Questions (6 marks)\n",
    "1. Which model did you select for part 5.2? How did it compare to the other models? \n",
    "1. Looking at the feature ranges, would a tree-based model or SVM make more sense for this dataset? Did using scaling for SVM improve the results? How did it perform compared to the random forest model?\n",
    "1. In your opinion, is it better to focus on changing the decision threshold or changing the model to improve precision/recall results? Why?\n",
    "\n",
    "*ANSWER HERE*\n",
    "\n",
    "1. I chose the Random Forest model. This model had the highest training and validation accuracy at 0.97 and 0.94 respectively. This allowed for the most accurate model with the highest precision and recall scores. \n",
    "\n",
    "2. A tree-based model makes more sense for this dataset as SVM would require scaling due to the dataset we used. Scaling considerably improved the performance of the model boosting its training and validation accuracy from 72 and 71 to 95 and 93 respectively. Pre-scaling, SVC did not perform anywhere near as well as the tree model, but once it was scaled it performed with very similar results.\n",
    "\n",
    "3. Personally I believe choosing a better model is more important than trying to change the decision threshold as the model would have a much larger impact. As shown previously, the unscaled SVC model was not the correct model as it had low scores, so changing the decision boundary in that case would most likely have less of an impact than changing to a tree-based model which does not require scaling."
   ]
  },
  {
   "cell_type": "markdown",
   "id": "664ff8ae",
   "metadata": {},
   "source": [
    "### Process Description (4 marks)\n",
    "Please describe the process you used to create your code for parts A and B. Cite any websites or generative AI tools used. You can use the following questions as guidance:\n",
    "1. Where did you source your code?\n",
    "1. In what order did you complete the steps?\n",
    "1. If you used generative AI, what prompts did you use? Did you need to modify the code at all? Why or why not?\n",
    "1. Did you have any challenges? If yes, what were they? If not, what helped you to be successful?"
   ]
  },
  {
   "cell_type": "markdown",
   "id": "d0e837da",
   "metadata": {},
   "source": [
    "*DESCRIBE YOUR PROCESS HERE - BE SPECIFIC*\n",
    "1. This code was created by myself, using the documentation from scikit learn and GeeksforGeeks to understand functions and parameters\n",
    "2. The steps were completed in sequential order from 1 to 5. This was done as it was straight forward and necessary to compare the models correctly\n",
    "3. Generative AI was used to better explain functions which I did not understand from reading the documentation. Using prompts such as \"What do the _____ parameters mean in _____ function?\" Sometimes the AI would give hallucinations and incorrectly using the code compared to the documentation, causing confusion.\n",
    "4. I did not face as many challenges as the previous lab. Knowing the websites for the documentation and being more familiar with the functions as they were previously used in the lab helped me complete these steps much quicker and have a more thorough understanding of each step. The challenges I faced such as how to change the threshold were quickly solved by checking the documentation and reading what is returned by the functions."
   ]
  },
  {
   "cell_type": "markdown",
   "id": "5ee2d2c3",
   "metadata": {},
   "source": [
    "## Part 2: Regression (18 marks)\n",
    "\n",
    "For this section, we will be using the concrete example from yellowbrick. Since this dataset is highly non-linear, we will be evaluating how well different tree-based models work for this case.\n",
    "\n",
    "You will need to repeat the steps from Part 1 for this analysis."
   ]
  },
  {
   "cell_type": "markdown",
   "id": "8219f163",
   "metadata": {},
   "source": [
    "### Step 1: Data Input (1 mark)\n",
    "\n",
    "The data used for this task can be imported using the yellowbrick library: \n",
    "https://www.scikit-yb.org/en/latest/api/datasets/concrete.html\n",
    "\n",
    "Use the yellowbrick function `load_concrete()` to load the concrete dataset into the feature matrix `X` and target vector `y`."
   ]
  },
  {
   "cell_type": "code",
   "execution_count": 620,
   "id": "2af8bd32",
   "metadata": {},
   "outputs": [
    {
     "name": "stdout",
     "output_type": "stream",
     "text": [
      "The type of X is: <class 'pandas.core.frame.DataFrame'> and has size: 8240 in the shape: (1030, 8)\n",
      "The type of X is: <class 'pandas.core.series.Series'> and has size: 1030 in the shape: (1030,)\n"
     ]
    }
   ],
   "source": [
    "# TO DO: Import concrete dataset from yellowbrick library (1 mark)\n",
    "from yellowbrick.datasets.loaders import load_concrete\n",
    "\n",
    "X, y = load_concrete()\n",
    "\n",
    "if(X is None or y is None):\n",
    "    print(\"Error loading the dataset\")\n",
    "else:\n",
    "    print(f\"The type of X is: {type(X)} and has size: {X.size} in the shape: {X.shape}\")\n",
    "    print(f\"The type of X is: {type(y)} and has size: {y.size} in the shape: {y.shape}\")"
   ]
  },
  {
   "cell_type": "markdown",
   "id": "42fea4cc",
   "metadata": {},
   "source": [
    "### Step 2: Data Processing (1 mark)\n",
    "\n",
    "Check if there are any missing values and fill them in if necessary. Remove any non-numeric columns."
   ]
  },
  {
   "cell_type": "code",
   "execution_count": 621,
   "id": "06fc9c0f",
   "metadata": {},
   "outputs": [
    {
     "name": "stdout",
     "output_type": "stream",
     "text": [
      "There are 0 values missing in X\n",
      "There are 0 values missing in y\n",
      "-----------------\n",
      "      cement   slag    ash  water  splast  coarse   fine  age\n",
      "0      540.0    0.0    0.0  162.0     2.5  1040.0  676.0   28\n",
      "1      540.0    0.0    0.0  162.0     2.5  1055.0  676.0   28\n",
      "2      332.5  142.5    0.0  228.0     0.0   932.0  594.0  270\n",
      "3      332.5  142.5    0.0  228.0     0.0   932.0  594.0  365\n",
      "4      198.6  132.4    0.0  192.0     0.0   978.4  825.5  360\n",
      "...      ...    ...    ...    ...     ...     ...    ...  ...\n",
      "1025   276.4  116.0   90.3  179.6     8.9   870.1  768.3   28\n",
      "1026   322.2    0.0  115.6  196.0    10.4   817.9  813.4   28\n",
      "1027   148.5  139.4  108.6  192.7     6.1   892.4  780.0   28\n",
      "1028   159.1  186.7    0.0  175.6    11.3   989.6  788.9   28\n",
      "1029   260.9  100.5   78.3  200.6     8.6   864.5  761.5   28\n",
      "\n",
      "[1030 rows x 8 columns]\n",
      "-----------------\n",
      "0       79.986111\n",
      "1       61.887366\n",
      "2       40.269535\n",
      "3       41.052780\n",
      "4       44.296075\n",
      "          ...    \n",
      "1025    44.284354\n",
      "1026    31.178794\n",
      "1027    23.696601\n",
      "1028    32.768036\n",
      "1029    32.401235\n",
      "Name: strength, Length: 1030, dtype: float64\n"
     ]
    }
   ],
   "source": [
    "# TO DO: Process the data - fill-in any missing values and remove any non-numeric columns (0.5 marks)\n",
    "missing_x = X.isnull().sum().sum()\n",
    "missing_y = y.isnull().sum()\n",
    "\n",
    "print(f\"There are {missing_x} values missing in X\") #Appears to have no missing values, therefore do not need to fill-in anything\n",
    "print(f\"There are {missing_y} values missing in y\") #Appears to have no missing values, therefore do not need to fill-in anything\n",
    "print(\"-----------------\")\n",
    "print(X) #To check features - Appears to have no non-numeric columns\n",
    "print(\"-----------------\")\n",
    "print(y) #To check targets - Appears to have no non-numeric columns"
   ]
  },
  {
   "cell_type": "markdown",
   "id": "c8df0b2a",
   "metadata": {},
   "source": [
    "The concrete data should already be split into the feature matrix and target vector. Inspect the first few columns of the feature matrix."
   ]
  },
  {
   "cell_type": "code",
   "execution_count": 622,
   "id": "413e466e",
   "metadata": {},
   "outputs": [
    {
     "name": "stdout",
     "output_type": "stream",
     "text": [
      "   cement   slag  ash  water  splast  coarse   fine  age\n",
      "0   540.0    0.0  0.0  162.0     2.5  1040.0  676.0   28\n",
      "1   540.0    0.0  0.0  162.0     2.5  1055.0  676.0   28\n",
      "2   332.5  142.5  0.0  228.0     0.0   932.0  594.0  270\n",
      "3   332.5  142.5  0.0  228.0     0.0   932.0  594.0  365\n",
      "4   198.6  132.4  0.0  192.0     0.0   978.4  825.5  360\n"
     ]
    }
   ],
   "source": [
    "# TO DO: Inspect the first few rows of the feature matrix (0.5 marks)\n",
    "print(X.head())"
   ]
  },
  {
   "cell_type": "markdown",
   "id": "2a245d00",
   "metadata": {},
   "source": [
    "### Step 3: Implement and Validate Machine Learning Model (7 marks)\n",
    "\n",
    "1. Import any required libraries\n",
    "1. Split the data into training and testing sets (testing data should be 10% of the dataset)\n",
    "1. Train and validate the Decision Tree model with the training set (use `cross_validate()` with `cv=5` and `scoring='r2'`)\n",
    "    1. Test five different max_depth values: 3, 5, 7, 9 and 11\n",
    "1. Print the training and validation accuracy for the best max_depth results. Which max_depth gave us the best results?\n",
    "\n",
    "**Note**: for any random state parameters, you can use random_state = 0"
   ]
  },
  {
   "cell_type": "code",
   "execution_count": 623,
   "id": "08d7f49d",
   "metadata": {},
   "outputs": [],
   "source": [
    "# Split training and testing sets (1 mark)\n",
    "X_train, X_test, y_train, y_test = train_test_split(X, y, test_size=0.1, random_state=0)"
   ]
  },
  {
   "cell_type": "code",
   "execution_count": 624,
   "id": "4cade259",
   "metadata": {},
   "outputs": [
    {
     "name": "stdout",
     "output_type": "stream",
     "text": [
      "Decision Tree with max depth of 3\n",
      "Training accuracy: 0.6369254623206089\n",
      "Validation accuracy: 0.5728232818866036\n",
      "---------------------\n",
      "Decision Tree with max depth of 5\n",
      "Training accuracy: 0.8212954119214\n",
      "Validation accuracy: 0.7107858594921725\n",
      "---------------------\n",
      "Decision Tree with max depth of 7\n",
      "Training accuracy: 0.9179040300034209\n",
      "Validation accuracy: 0.7780844886481686\n",
      "---------------------\n",
      "Decision Tree with max depth of 9\n",
      "Training accuracy: 0.9678620018390293\n",
      "Validation accuracy: 0.8115408757428465\n",
      "---------------------\n",
      "Decision Tree with max depth of 11\n",
      "Training accuracy: 0.9884825233465044\n",
      "Validation accuracy: 0.8090488209607269\n",
      "---------------------\n",
      "The tree with the best max_depth results is 11\n"
     ]
    }
   ],
   "source": [
    "# Test max_depths of 3, 5, 7, 9 and 11 for a decision tree model to find the best results (3 marks)\n",
    "# Hint: It is easier if you use a loop to evaluate each max_depth\n",
    "from sklearn.tree import DecisionTreeRegressor\n",
    "\n",
    "max_depths = [3, 5, 7, 9, 11]\n",
    "for i in range(len(max_depths)):\n",
    "    tree_max_depth = max_depths[i]\n",
    "    model = DecisionTreeRegressor(random_state=0, max_depth=tree_max_depth)\n",
    "    cross_val_tree = cross_validate(model, X_train, y_train, cv=5, scoring='r2', return_train_score=True)\n",
    "    tree_train_acc = cross_val_tree['train_score'].mean()\n",
    "    tree_val_acc = cross_val_tree['test_score'].mean()\n",
    "    print(f\"Decision Tree with max depth of {tree_max_depth}\")\n",
    "    print(f\"Training accuracy: {tree_train_acc}\")\n",
    "    print(f\"Validation accuracy: {tree_val_acc}\")\n",
    "    print(\"---------------------\")\n",
    "\n",
    "print(\"The tree with the best max_depth results is 11\")"
   ]
  },
  {
   "cell_type": "markdown",
   "id": "0a7dcbb1",
   "metadata": {},
   "source": [
    "Now that we have found the best results for a decision tree model with this dataset, let's compare this result to using `Random_Forest` or `GradientBoosting`. For both models, use `max_depth=5`."
   ]
  },
  {
   "cell_type": "code",
   "execution_count": 625,
   "id": "180d5854",
   "metadata": {},
   "outputs": [
    {
     "name": "stdout",
     "output_type": "stream",
     "text": [
      "Random Forest - Training Accuracy: 0.88, Validation Accuracy: 0.86\n",
      "Gradient Boosting - Training Accuracy: 0.99, Validation Accuracy: 0.92\n"
     ]
    }
   ],
   "source": [
    "# TO DO: Calculate and display training and validation accuracies for both models using default hyperparameters (3 marks)\n",
    "from sklearn.ensemble import RandomForestRegressor\n",
    "from sklearn.ensemble import GradientBoostingRegressor\n",
    "from sklearn.metrics import r2_score\n",
    "\n",
    "random_forest = RandomForestRegressor(max_depth=5, random_state=0)\n",
    "gradient = GradientBoostingRegressor(max_depth=5, random_state=0)\n",
    "\n",
    "random_forest.fit(X_train, y_train)\n",
    "gradient.fit(X_train, y_train)\n",
    "\n",
    "rf_train_pred = random_forest.predict(X_train)\n",
    "rf_val_pred = random_forest.predict(X_test)\n",
    "\n",
    "gradient_train_pred = gradient.predict(X_train)\n",
    "gradient_val_pred = gradient.predict(X_test)\n",
    "\n",
    "rf_train_acc = r2_score(y_train, rf_train_pred)\n",
    "rf_val_acc = r2_score(y_test, rf_val_pred)\n",
    "\n",
    "gradient_train_acc = r2_score(y_train, gradient_train_pred)\n",
    "gradient_val_acc = r2_score(y_test, gradient_val_pred)\n",
    "\n",
    "print(f\"Random Forest - Training Accuracy: {rf_train_acc:.2f}, Validation Accuracy: {rf_val_acc:.2f}\")\n",
    "print(f\"Gradient Boosting - Training Accuracy: {gradient_train_acc:.2f}, Validation Accuracy: {gradient_val_acc:.2f}\")"
   ]
  },
  {
   "cell_type": "markdown",
   "id": "f786d1c8",
   "metadata": {},
   "source": [
    "Which model gave us the best results? Use that model for the next step."
   ]
  },
  {
   "cell_type": "markdown",
   "id": "3f994e31",
   "metadata": {},
   "source": [
    "### Step 4: Test Model (1 mark)\n",
    "\n",
    "Select the best model and calculate the testing accuracy using the R^2 score"
   ]
  },
  {
   "cell_type": "code",
   "execution_count": 626,
   "id": "fdc93a78",
   "metadata": {},
   "outputs": [
    {
     "name": "stdout",
     "output_type": "stream",
     "text": [
      "Final Model: Gradient Boosting\n",
      "Test Accuracy (R²): 0.92\n"
     ]
    }
   ],
   "source": [
    "# TO DO: Find test score using best model (1 mark)\n",
    "# I am confused, is this not doing the same thing that was previously done in the last cell?\n",
    "gradient_test_pred = gradient.predict(X_test)\n",
    "gradient_test_acc = r2_score(y_test, gradient_test_pred)\n",
    "\n",
    "print(f\"Final Model: Gradient Boosting\")\n",
    "print(f\"Test Accuracy (R²): {gradient_test_acc:.2f}\")"
   ]
  },
  {
   "cell_type": "markdown",
   "id": "a5257a98",
   "metadata": {},
   "source": [
    "### Questions (4 marks)\n",
    "1. Out of the models you tested, which model would you select for this dataset and why?\n",
    "1. If you wanted to increase the accuracy of the tree-based models, what would you do? Provide two suggestions.\n",
    "\n",
    "*ANSWER HERE*\n",
    "1. I would select the GradientBoosting model. This selection is made based on the fact that the model has the higher training and testing accuracies at 99 and 93 respectively. Comparing this to the random forest, that model only achieved 88 and 86 for its scores. The Gradient model seems to be the better choice.\n",
    "2. I would play around with the n_estimators hyperparameter, increasing the value. Once this is optimized, it could ensure we have a higher accuracy compared to the default 100 n_estimator value. Another option is specifically for the GradientBoosting, the learning_rate parameter can be changed and optimized to potentially increase the validation accuracy"
   ]
  },
  {
   "cell_type": "markdown",
   "id": "37b238f4",
   "metadata": {},
   "source": [
    "### Process Description (4 marks)\n",
    "Please describe the process you used to create your code. Cite any websites or generative AI tools used. You can use the following questions as guidance:\n",
    "1. Where did you source your code?\n",
    "1. In what order did you complete the steps?\n",
    "1. If you used generative AI, what prompts did you use? Did you need to modify the code at all? Why or why not?\n",
    "1. Did you have any challenges? If yes, what were they? If not, what helped you to be successful?"
   ]
  },
  {
   "cell_type": "markdown",
   "id": "93097bfe",
   "metadata": {},
   "source": [
    "*DESCRIBE YOUR PROCESS HERE - BE SPECIFIC*\n",
    "1. Source code was originally written and was verified with the documentation from scikit-learn and GeeksforGeeks\n",
    "2. The steps were completed in order, allowing for an organized understanding of the purpose and also as following steps built upon previous ones\n",
    "3. Generative AI was used to understand functions again, using similar prompts as in Part 1. Prompts such as \"Does changing ____ hyperparameter in ____ function help improve the recall?\" which were supported using class notes as well \n",
    "4. I did nto face challenges in this part of the lab. As previously stated, documentation helped any confusion and allowed me to understand what to do for each step"
   ]
  },
  {
   "cell_type": "markdown",
   "id": "cd97b6ac",
   "metadata": {},
   "source": [
    "## Part 3: Reflection (2 marks)\n",
    "Include a sentence or two about:\n",
    "- what you liked or disliked,\n",
    "- found interesting, confusing, challenging, motivating\n",
    "while working on this assignment.\n",
    "\n",
    "\n",
    "*ADD YOUR THOUGHTS HERE*\n",
    "I really enjoyed being able to explore multiple models on the same dataset to be able to see which one worked better. Learning how to choose the correct model was highlighted in this lab and I believe it's of great importance\n",
    "\n",
    "Something I found confusing was some steps seemed to repeat. For example there is a cell near the beginning asking us to split the dataset and then later it asks us to split it again, even if we never used the first split. Another thing is the LogisticRegression model needed to have fit_intercept=False as the intercept was fitting to -1.66 which was causing confusion when changing it to -1 as it was increasing it when I meant to decrease it."
   ]
  }
 ],
 "metadata": {
  "kernelspec": {
   "display_name": "Python 3 (ipykernel)",
   "language": "python",
   "name": "python3"
  },
  "language_info": {
   "codemirror_mode": {
    "name": "ipython",
    "version": 3
   },
   "file_extension": ".py",
   "mimetype": "text/x-python",
   "name": "python",
   "nbconvert_exporter": "python",
   "pygments_lexer": "ipython3",
   "version": "3.12.9"
  }
 },
 "nbformat": 4,
 "nbformat_minor": 5
}
